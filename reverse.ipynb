{
 "cells": [
  {
   "cell_type": "code",
   "execution_count": 3,
   "metadata": {},
   "outputs": [],
   "source": [
    "import speech_recognition as sr\n",
    "from gtts import gTTS\n",
    "from os.path import exists\n",
    "\n",
    "\n",
    "import cv2"
   ]
  },
  {
   "cell_type": "code",
   "execution_count": 4,
   "metadata": {},
   "outputs": [
    {
     "name": "stdout",
     "output_type": "stream",
     "text": [
      "speak now .......................\n",
      "You said :   accident\n",
      "signVDO\\accident(360p).mp4\n",
      "speak now .......................\n",
      "didnt get it, so sorry!!!\n",
      "speak now .......................\n",
      "You said :   absent\n",
      "signVDO\\absent(360p).mp4\n",
      "speak now .......................\n",
      "You said :   welcome\n",
      "signVDO\\welcome(360p).mp4\n",
      "speak now .......................\n",
      "didnt get it, so sorry!!!\n",
      "speak now .......................\n",
      "You said :   ok\n"
     ]
    }
   ],
   "source": [
    "text=\"\"\n",
    "\n",
    "while True:\n",
    "    print(\"speak now .......................\")\n",
    "    r=sr.Recognizer()\n",
    "    with sr.Microphone() as source:\n",
    "        try:\n",
    "            audio=r.listen(source)\n",
    "            text=r.recognize_google(audio)\n",
    "\n",
    "            print(\"You said :  \",text)\n",
    "            if text==\"ok\":\n",
    "                break\n",
    "        except:\n",
    "            text=\"\"\n",
    "            print(\"didnt get it, so sorry!!!\")\n",
    "            # text=r.recognize_google(audio)\n",
    "            # voice=voice+str(text)\n",
    "        folderPath = r'signVDO'\n",
    "        if(text!=\"\"):\n",
    "            path = \"\\\\\"+text + \"(360p).mp4\"\n",
    "            path=folderPath+path\n",
    "            print(path)\n",
    "            try:\n",
    "                file_exists = exists(path)\n",
    "                if not (file_exists) :\n",
    "                    raise FileNotFoundError\n",
    "\n",
    "                for i in range(2):\n",
    "                    cap = cv2.VideoCapture(path)\n",
    "                    while (cap.isOpened()):\n",
    "                        ret, frame = cap.read()\n",
    "\n",
    "                        try:\n",
    "                            cv2.imshow('frame', frame)\n",
    "                        except cv2.error:\n",
    "                            pass\n",
    "\n",
    "                        if cv2.waitKey(60) & 0xFF == ord('q'):\n",
    "                            break\n",
    "\n",
    "                    cap.release()\n",
    "                    cv2.destroyAllWindows()\n",
    "            except FileNotFoundError:\n",
    "                print(\"No such file exists \")\n",
    "\n"
   ]
  },
  {
   "cell_type": "code",
   "execution_count": null,
   "metadata": {},
   "outputs": [],
   "source": []
  }
 ],
 "metadata": {
  "kernelspec": {
   "display_name": "Python 3 (ipykernel)",
   "language": "python",
   "name": "python3"
  },
  "language_info": {
   "codemirror_mode": {
    "name": "ipython",
    "version": 3
   },
   "file_extension": ".py",
   "mimetype": "text/x-python",
   "name": "python",
   "nbconvert_exporter": "python",
   "pygments_lexer": "ipython3",
   "version": "3.7.13"
  }
 },
 "nbformat": 4,
 "nbformat_minor": 4
}
