{
 "cells": [
  {
   "cell_type": "code",
   "execution_count": 1,
   "metadata": {},
   "outputs": [],
   "source": [
    "WORKSPACE_PATH = 'Tensorflow/workspace'\n",
    "SCRIPTS_PATH = 'Tensorflow/scripts'\n",
    "APIMODEL_PATH = 'Tensorflow/models'\n",
    "ANNOTATION_PATH = WORKSPACE_PATH+'/annotations'\n",
    "IMAGE_PATH = WORKSPACE_PATH+'/images'\n",
    "MODEL_PATH = WORKSPACE_PATH+'/models'\n",
    "PRETRAINED_MODEL_PATH = WORKSPACE_PATH+'/pre-trained-models'\n",
    "CONFIG_PATH = MODEL_PATH+'/my_ssd_mobnet/pipeline.config'\n",
    "CHECKPOINT_PATH = MODEL_PATH+'/my_ssd_mobnet/'"
   ]
  },
  {
   "cell_type": "code",
   "execution_count": 2,
   "metadata": {},
   "outputs": [],
   "source": [
    "labels = [\n",
    "    {'name':'zero', 'id':1}, \n",
    "    {'name':'one', 'id':2},\n",
    "    {'name':'two', 'id':3}, \n",
    "    {'name':'three', 'id':4},\n",
    "    {'name':'four', 'id':5}, \n",
    "    {'name':'five', 'id':6},\n",
    "    {'name':'six', 'id':7}, \n",
    "    {'name':'seven', 'id':8},\n",
    "    {'name':'eight', 'id':9}, \n",
    "    {'name':'nine', 'id':10}\n",
    "         ]\n",
    "\n",
    "with open(ANNOTATION_PATH + '\\label_map.pbtxt', 'w') as f:\n",
    "    for label in labels:\n",
    "        f.write('item { \\n')\n",
    "        f.write('\\tname:\\'{}\\'\\n'.format(label['name']))\n",
    "        f.write('\\tid:{}\\n'.format(label['id']))\n",
    "        f.write('}\\n')"
   ]
  },
  {
   "cell_type": "code",
   "execution_count": 4,
   "metadata": {},
   "outputs": [
    {
     "name": "stdout",
     "output_type": "stream",
     "text": [
      "Successfully created the TFRecord file: Tensorflow/workspace/annotations/train.record\n",
      "Successfully created the TFRecord file: Tensorflow/workspace/annotations/test.record\n"
     ]
    }
   ],
   "source": [
    "!python {SCRIPTS_PATH + '/generate_tfrecord.py'} -x {IMAGE_PATH + '/train'} -l {ANNOTATION_PATH + '/label_map.pbtxt'} -o {ANNOTATION_PATH + '/train.record'}\n",
    "!python {SCRIPTS_PATH + '/generate_tfrecord.py'} -x{IMAGE_PATH + '/test'} -l {ANNOTATION_PATH + '/label_map.pbtxt'} -o {ANNOTATION_PATH + '/test.record'}"
   ]
  },
  {
   "cell_type": "code",
   "execution_count": 3,
   "metadata": {},
   "outputs": [
    {
     "name": "stderr",
     "output_type": "stream",
     "text": [
      "fatal: destination path 'models' already exists and is not an empty directory.\n"
     ]
    }
   ],
   "source": [
    "!cd Tensorflow && git clone https://github.com/tensorflow/models"
   ]
  },
  {
   "cell_type": "code",
   "execution_count": 6,
   "metadata": {},
   "outputs": [],
   "source": [
    "#wget.download('http://download.tensorflow.org/models/object_detection/tf2/20200711/ssd_mobilenet_v2_fpnlite_320x320_coco17_tpu-8.tar.gz')\n",
    "#!mv ssd_mobilenet_v2_fpnlite_320x320_coco17_tpu-8.tar.gz {PRETRAINED_MODEL_PATH}\n",
    "#!cd {PRETRAINED_MODEL_PATH} && tar -zxvf ssd_mobilenet_v2_fpnlite_320x320_coco17_tpu-8.tar.gz"
   ]
  },
  {
   "cell_type": "code",
   "execution_count": 2,
   "metadata": {},
   "outputs": [],
   "source": [
    "CUSTOM_MODEL_NAME = 'my_ssd_mobnet' "
   ]
  },
  {
   "cell_type": "code",
   "execution_count": 15,
   "metadata": {},
   "outputs": [
    {
     "name": "stdout",
     "output_type": "stream",
     "text": [
      "The syntax of the command is incorrect.\n"
     ]
    }
   ],
   "source": [
    "!mkdir {'Tensorflow\\workspace\\models\\\\'+CUSTOM_MODEL_NAME}\n",
    "!copy {PRETRAINED_MODEL_PATH+'/ssd_mobilenet_v2_fpnlite_320x320_coco17_tpu-8/pipeline.config'} {MODEL_PATH+'/'+CUSTOM_MODEL_NAME}"
   ]
  },
  {
   "cell_type": "code",
   "execution_count": 3,
   "metadata": {},
   "outputs": [],
   "source": [
    "import tensorflow as tf\n",
    "from object_detection.utils import config_util\n",
    "from object_detection.protos import pipeline_pb2\n",
    "from google.protobuf import text_format"
   ]
  },
  {
   "cell_type": "code",
   "execution_count": 4,
   "metadata": {},
   "outputs": [],
   "source": [
    "CONFIG_PATH = MODEL_PATH+'/'+CUSTOM_MODEL_NAME+'/pipeline.config'"
   ]
  },
  {
   "cell_type": "code",
   "execution_count": 5,
   "metadata": {},
   "outputs": [],
   "source": [
    "config = config_util.get_configs_from_pipeline_file(CONFIG_PATH)"
   ]
  },
  {
   "cell_type": "code",
   "execution_count": 6,
   "metadata": {},
   "outputs": [
    {
     "data": {
      "text/plain": [
       "{'model': ssd {\n",
       "   num_classes: 10\n",
       "   image_resizer {\n",
       "     fixed_shape_resizer {\n",
       "       height: 320\n",
       "       width: 320\n",
       "     }\n",
       "   }\n",
       "   feature_extractor {\n",
       "     type: \"ssd_mobilenet_v2_fpn_keras\"\n",
       "     depth_multiplier: 1.0\n",
       "     min_depth: 16\n",
       "     conv_hyperparams {\n",
       "       regularizer {\n",
       "         l2_regularizer {\n",
       "           weight: 3.9999998989515007e-05\n",
       "         }\n",
       "       }\n",
       "       initializer {\n",
       "         random_normal_initializer {\n",
       "           mean: 0.0\n",
       "           stddev: 0.009999999776482582\n",
       "         }\n",
       "       }\n",
       "       activation: RELU_6\n",
       "       batch_norm {\n",
       "         decay: 0.996999979019165\n",
       "         scale: true\n",
       "         epsilon: 0.0010000000474974513\n",
       "       }\n",
       "     }\n",
       "     use_depthwise: true\n",
       "     override_base_feature_extractor_hyperparams: true\n",
       "     fpn {\n",
       "       min_level: 3\n",
       "       max_level: 7\n",
       "       additional_layer_depth: 128\n",
       "     }\n",
       "   }\n",
       "   box_coder {\n",
       "     faster_rcnn_box_coder {\n",
       "       y_scale: 10.0\n",
       "       x_scale: 10.0\n",
       "       height_scale: 5.0\n",
       "       width_scale: 5.0\n",
       "     }\n",
       "   }\n",
       "   matcher {\n",
       "     argmax_matcher {\n",
       "       matched_threshold: 0.5\n",
       "       unmatched_threshold: 0.5\n",
       "       ignore_thresholds: false\n",
       "       negatives_lower_than_unmatched: true\n",
       "       force_match_for_each_row: true\n",
       "       use_matmul_gather: true\n",
       "     }\n",
       "   }\n",
       "   similarity_calculator {\n",
       "     iou_similarity {\n",
       "     }\n",
       "   }\n",
       "   box_predictor {\n",
       "     weight_shared_convolutional_box_predictor {\n",
       "       conv_hyperparams {\n",
       "         regularizer {\n",
       "           l2_regularizer {\n",
       "             weight: 3.9999998989515007e-05\n",
       "           }\n",
       "         }\n",
       "         initializer {\n",
       "           random_normal_initializer {\n",
       "             mean: 0.0\n",
       "             stddev: 0.009999999776482582\n",
       "           }\n",
       "         }\n",
       "         activation: RELU_6\n",
       "         batch_norm {\n",
       "           decay: 0.996999979019165\n",
       "           scale: true\n",
       "           epsilon: 0.0010000000474974513\n",
       "         }\n",
       "       }\n",
       "       depth: 128\n",
       "       num_layers_before_predictor: 4\n",
       "       kernel_size: 3\n",
       "       class_prediction_bias_init: -4.599999904632568\n",
       "       share_prediction_tower: true\n",
       "       use_depthwise: true\n",
       "     }\n",
       "   }\n",
       "   anchor_generator {\n",
       "     multiscale_anchor_generator {\n",
       "       min_level: 3\n",
       "       max_level: 7\n",
       "       anchor_scale: 4.0\n",
       "       aspect_ratios: 1.0\n",
       "       aspect_ratios: 2.0\n",
       "       aspect_ratios: 0.5\n",
       "       scales_per_octave: 2\n",
       "     }\n",
       "   }\n",
       "   post_processing {\n",
       "     batch_non_max_suppression {\n",
       "       score_threshold: 9.99999993922529e-09\n",
       "       iou_threshold: 0.6000000238418579\n",
       "       max_detections_per_class: 100\n",
       "       max_total_detections: 100\n",
       "       use_static_shapes: false\n",
       "     }\n",
       "     score_converter: SIGMOID\n",
       "   }\n",
       "   normalize_loss_by_num_matches: true\n",
       "   loss {\n",
       "     localization_loss {\n",
       "       weighted_smooth_l1 {\n",
       "       }\n",
       "     }\n",
       "     classification_loss {\n",
       "       weighted_sigmoid_focal {\n",
       "         gamma: 2.0\n",
       "         alpha: 0.25\n",
       "       }\n",
       "     }\n",
       "     classification_weight: 1.0\n",
       "     localization_weight: 1.0\n",
       "   }\n",
       "   encode_background_as_zeros: true\n",
       "   normalize_loc_loss_by_codesize: true\n",
       "   inplace_batchnorm_update: true\n",
       "   freeze_batchnorm: false\n",
       " },\n",
       " 'train_config': batch_size: 4\n",
       " data_augmentation_options {\n",
       "   random_horizontal_flip {\n",
       "   }\n",
       " }\n",
       " data_augmentation_options {\n",
       "   random_crop_image {\n",
       "     min_object_covered: 0.0\n",
       "     min_aspect_ratio: 0.75\n",
       "     max_aspect_ratio: 3.0\n",
       "     min_area: 0.75\n",
       "     max_area: 1.0\n",
       "     overlap_thresh: 0.0\n",
       "   }\n",
       " }\n",
       " sync_replicas: true\n",
       " optimizer {\n",
       "   momentum_optimizer {\n",
       "     learning_rate {\n",
       "       cosine_decay_learning_rate {\n",
       "         learning_rate_base: 0.07999999821186066\n",
       "         total_steps: 50000\n",
       "         warmup_learning_rate: 0.026666000485420227\n",
       "         warmup_steps: 1000\n",
       "       }\n",
       "     }\n",
       "     momentum_optimizer_value: 0.8999999761581421\n",
       "   }\n",
       "   use_moving_average: false\n",
       " }\n",
       " fine_tune_checkpoint: \"Tensorflow/workspace/pre-trained-models/ssd_mobilenet_v2_fpnlite_320x320_coco17_tpu-8/checkpoint/ckpt-0\"\n",
       " num_steps: 50000\n",
       " startup_delay_steps: 0.0\n",
       " replicas_to_aggregate: 8\n",
       " max_number_of_boxes: 100\n",
       " unpad_groundtruth_tensors: false\n",
       " fine_tune_checkpoint_type: \"detection\"\n",
       " fine_tune_checkpoint_version: V2,\n",
       " 'train_input_config': label_map_path: \"Tensorflow/workspace/annotations/label_map.pbtxt\"\n",
       " tf_record_input_reader {\n",
       "   input_path: \"Tensorflow/workspace/annotations/train.record\"\n",
       " },\n",
       " 'eval_config': metrics_set: \"coco_detection_metrics\"\n",
       " use_moving_averages: false,\n",
       " 'eval_input_configs': [label_map_path: \"Tensorflow/workspace/annotations/label_map.pbtxt\"\n",
       " shuffle: false\n",
       " num_epochs: 1\n",
       " tf_record_input_reader {\n",
       "   input_path: \"Tensorflow/workspace/annotations/test.record\"\n",
       " }\n",
       " ],\n",
       " 'eval_input_config': label_map_path: \"Tensorflow/workspace/annotations/label_map.pbtxt\"\n",
       " shuffle: false\n",
       " num_epochs: 1\n",
       " tf_record_input_reader {\n",
       "   input_path: \"Tensorflow/workspace/annotations/test.record\"\n",
       " }}"
      ]
     },
     "execution_count": 6,
     "metadata": {},
     "output_type": "execute_result"
    }
   ],
   "source": [
    "config"
   ]
  },
  {
   "cell_type": "code",
   "execution_count": 6,
   "metadata": {},
   "outputs": [],
   "source": [
    "pipeline_config = pipeline_pb2.TrainEvalPipelineConfig()\n",
    "with tf.io.gfile.GFile(CONFIG_PATH, \"r\") as f:                                                                                                                                                                                                                     \n",
    "    proto_str = f.read()                                                                                                                                                                                                                                          \n",
    "    text_format.Merge(proto_str, pipeline_config)  "
   ]
  },
  {
   "cell_type": "code",
   "execution_count": 9,
   "metadata": {},
   "outputs": [],
   "source": [
    "pipeline_config.model.ssd.num_classes = 10\n",
    "pipeline_config.train_config.batch_size = 4\n",
    "pipeline_config.train_config.fine_tune_checkpoint = PRETRAINED_MODEL_PATH+'/ssd_mobilenet_v2_fpnlite_320x320_coco17_tpu-8/checkpoint/ckpt-0'\n",
    "pipeline_config.train_config.fine_tune_checkpoint_type = \"detection\"\n",
    "pipeline_config.train_input_reader.label_map_path= ANNOTATION_PATH + '/label_map.pbtxt'\n",
    "pipeline_config.train_input_reader.tf_record_input_reader.input_path[:] = [ANNOTATION_PATH + '/train.record']\n",
    "pipeline_config.eval_input_reader[0].label_map_path = ANNOTATION_PATH + '/label_map.pbtxt'\n",
    "pipeline_config.eval_input_reader[0].tf_record_input_reader.input_path[:] = [ANNOTATION_PATH + '/test.record']"
   ]
  },
  {
   "cell_type": "code",
   "execution_count": 7,
   "metadata": {},
   "outputs": [],
   "source": [
    "config_text = text_format.MessageToString(pipeline_config)                                                                                                                                                                                                        \n",
    "with tf.io.gfile.GFile(CONFIG_PATH, \"wb\") as f:                                                                                                                                                                                                                     \n",
    "    f.write(config_text)   "
   ]
  },
  {
   "cell_type": "markdown",
   "metadata": {},
   "source": [
    "# Train the model"
   ]
  },
  {
   "cell_type": "code",
   "execution_count": 23,
   "metadata": {},
   "outputs": [
    {
     "name": "stdout",
     "output_type": "stream",
     "text": [
      "python Tensorflow/models/research/object_detection/model_main_tf2.py --model_dir=Tensorflow/workspace/models/my_ssd_mobnet --pipeline_config_path=Tensorflow/workspace/models/my_ssd_mobnet/pipeline.config --num_train_steps=5000\n"
     ]
    }
   ],
   "source": [
    "print(\"\"\"python {}/research/object_detection/model_main_tf2.py --model_dir={}/{} --pipeline_config_path={}/{}/pipeline.config --num_train_steps=5000\"\"\".format(APIMODEL_PATH, MODEL_PATH,CUSTOM_MODEL_NAME,MODEL_PATH,CUSTOM_MODEL_NAME))"
   ]
  },
  {
   "cell_type": "markdown",
   "metadata": {},
   "source": [
    "#  Load Train Model From Checkpoint"
   ]
  },
  {
   "cell_type": "code",
   "execution_count": 8,
   "metadata": {},
   "outputs": [],
   "source": [
    "import os\n",
    "from object_detection.utils import label_map_util\n",
    "from object_detection.utils import visualization_utils as viz_utils\n",
    "from object_detection.builders import model_builder\n",
    "from gtts import gTTS"
   ]
  },
  {
   "cell_type": "code",
   "execution_count": 9,
   "metadata": {},
   "outputs": [],
   "source": [
    "# Load pipeline config and build a detection model\n",
    "configs = config_util.get_configs_from_pipeline_file(CONFIG_PATH)\n",
    "detection_model = model_builder.build(model_config=configs['model'], is_training=False)\n",
    "\n",
    "# Restore checkpoint\n",
    "ckpt = tf.compat.v2.train.Checkpoint(model=detection_model)\n",
    "ckpt.restore(os.path.join(CHECKPOINT_PATH, 'ckpt-6')).expect_partial()\n",
    "\n",
    "@tf.function\n",
    "def detect_fn(image):\n",
    "    image, shapes = detection_model.preprocess(image)\n",
    "    prediction_dict = detection_model.predict(image, shapes)\n",
    "    detections = detection_model.postprocess(prediction_dict, shapes)\n",
    "    return detections"
   ]
  },
  {
   "cell_type": "markdown",
   "metadata": {},
   "source": [
    "# Detect in Real-Time"
   ]
  },
  {
   "cell_type": "code",
   "execution_count": 10,
   "metadata": {},
   "outputs": [],
   "source": [
    "import cv2 \n",
    "import numpy as np\n",
    "from IPython.display import Audio"
   ]
  },
  {
   "cell_type": "code",
   "execution_count": 11,
   "metadata": {},
   "outputs": [],
   "source": [
    "category_index = label_map_util.create_category_index_from_labelmap(ANNOTATION_PATH+'/label_map.pbtxt')"
   ]
  },
  {
   "cell_type": "code",
   "execution_count": 14,
   "metadata": {},
   "outputs": [],
   "source": [
    "# Setup capture\n",
    "cap = cv2.VideoCapture(0)\n",
    "width = int(cap.get(cv2.CAP_PROP_FRAME_WIDTH))\n",
    "height = int(cap.get(cv2.CAP_PROP_FRAME_HEIGHT))"
   ]
  },
  {
   "cell_type": "code",
   "execution_count": 15,
   "metadata": {},
   "outputs": [
    {
     "name": "stdout",
     "output_type": "stream",
     "text": [
      "One\n"
     ]
    },
    {
     "data": {
      "text/html": [
       "\n",
       "                <audio  controls=\"controls\" >\n",
       "                    <source src=\"data:audio/mpeg;base64,//NExAASgM14AVgYAFSMQfh40E5hKZzhg0tDa0DTaUCAAYCsDc1jxpQNdc9DDkP5LOe5//oLeIVd0AxZoAI4ufKAgcBBb/38u8oc6gwUd/LnygIQwXeQq/ISpgCMVzcd//NExAkTsypcAY84AKXwQQDJ9PspV/0eQBYW/40Vv/Vx8bk//xYYYTUb/2/KjwkE2PM///MMHCxM5kKf///sYeN3HCExXM/////zJBbPPPQbjd2IvHAbVKUQgYFkyzWd//NExA0TkeKUAZooAJxxaCDH6P4Y3ZVTVO30///o19lt9CszkZ2OhTKwmYkEFjH71SLuSQiiMguII0VHIxHi110o9zC31fofG4HFDRtyVZq1lQw6jacBCGXngkLcYbqK//NExBEVmeKUAdooAN+Wu/3Us///8R31+v///95E6CQd3VDyFIJCYMIDUYoTHuPI6CZVMRkUhh0OREo8jiAqSFUk4s4n2N/67GiyBIiOcPWwVUq/vH6Vwh2MQWX5DDwy//NExA0VMeKYANlMmPrqUXGdMLPtir7ZvqhPk/b/+/hv9kmDrujwg/fzU5JgNNKwyanMh/dtmfPufXtdA4coEtBzTQZal7RQR72XJ//Nm1x+pJtITr/O4U8YBJ47LkOL//NExAsVEd6kANCMmLA4GrfATLwN/Bfhlf1f9jk6KhG///7Pl3blgwJgOmkdWkLYseKFioLQxb39t++do6NQaYUhBznDoOLAgOM8d//0T7WOSKVqSuTq7//nhPmMIfpK//NExAkTUdawAMlSmG/Xs5cqgB+Y536GEzv1Z2+qE+7f/9uM5/9ohDeVVtbiPcHUKR8kRn2nIYbjfy/lJyhDMjSbUDEYPQHx4dUlf///X6vmKn6lj4C14DtqhBIhDZni//NExA4SQd6wAKFQmULE/KB3+UYT6lO/o7W7lS7/FGBGDQxNRYOnDhCKGhyDwhhA57Wq6skaqr07zXSkiwoONUkcw9NMgWn97z94V5hP8y38MgOraxy/CLfhEXb6Hb9Q//NExBgSKc6wANFOlBBT6AcEjJoVAaJjeikSpY9dSgLg2JBiMs445v7H/ofspqFRgbnnzodAbXihpv///021/Pwp6RxzOGA3S20t1j3CgN/UKQqhlGcLgDiUvHgWw4jt//NExCISCfqkANKKmFISVByd8Sf9BJ9GqgsKfoZv6fyin5wFRdaKUf0Ef//+dcsMz9TUqu67h/3UpDDuo3AFQOfKmnckT4KIpPU3BJh3OggVD6LAFuEBupS2UiTf7H/3//NExCwRMdKYANtKlP6G+5WAv+X/L/QvKlRF2w6q0KP///9KHEqlpM6SXvwzsGDgw9TAjAT7Q5wdsIMMItmniwpfQqoGhh+a+rLZd3VuzLpVZ+oBAznHnf9xQVli58aN//NExDoSaJqQAOPwTP8wLnzh78QTrf///bZcjLXt/PWdSAyRcb/OlfAz89hyJiOgNAUC+hcIeVlpIAIUAKCRZiZAlusV8SdLvWV3/P/r//6fqEZdNZvv4Rcbn+Ti618p//NExEMSMVaYANUOlP//8uTYQanP/+2Fzn6U4tbHDssBCPALHh5kiMLjlwMfAYRl8xRMCuTA+wHgQ3v1plN/rE/9vyN+n9QsSH1g+HcHjuBBKyDzv1DA6oWM5NVvuGch//NExE0SEVKsAM0KlFiHopZHgm0OBdW1KeTMjJT0rrfMqkyshCEyQF/d73DkYtd///V78hW+7/ov5FKbUPgcUNq6uXznMpecPiwlb/xqzofYKvUspAGQEmMzF9EDoosn//NExFcSOb60AIZKlJnRLoFRIB3Yb5aTU5GALIg1USSWtxrmv1GrfW36P9v0N9VC6FmU9lHH+VHnXzhKdl5X9P9v178gNsOf/4PWJakGEqxp2YACBgDFMfzgIKGE2h0s//NExGERsk6wAJ0OuWjyjcGK4KJyarZ/cYvQ93/1hhTf/nRvsb839fQgiR0ECGFFFbqd2L5GMALuBAWPaf+fVf5/6dAqzHgxXPNyCqM2wLkvFbq2HxISBhkJTfWY1Oqh//NExG0TKbawAMYKlDGgFGaFjNcn4zlTZfnhfx5/+rGN9v//+Y1hYBRADCwsYideigFTJIAgr//rgpg0tfYQhGrQcphedEVuU8DUBxzllBRj8HSN3nRfhryJdSvDiCHE//NExHMTAWqoAMYKlN1QhTC8V0dgsFSz1y3//I7/9Aoe//5VBCx0jyOD4opkYJQ8W/tD9WSMDGQ91BiEOABBEUmULJCBpNkQvCpVo04nnTFSUHkq6Nn2MRo9Dr6WN/Kp//NExHoPcI54AM4eTFsPSP+/H91dKzhBCAggZ8KF/kjkkqpNbIBhMvkpRTgidvWjZs4lB5IwNnhQPVjrWqN2zxKBlCsBPbywsHGdkgvUhYZ03hyhNb71dbrNXYWSOwHk//NExI8RQHpEAMvSSEAa2LNBJKazh3+dztasc7rVfuOrIlGtGCEk8kWmQw86+YbAK2MtmZGub0KTqTvYrqqc2elZZbNLz/p5ezCdYyoHEIZGoM4bp8ea5bqc4DpB9H38//NExJ0RuIo0AMpGTO+Ih4YbfUtIBXAAfAPtS3d2XA3UBgy8Dd7f7DJqCysUIJwe+/bFkFRZfKA7F1/u3FADIGYoghOPYevf//yHDsIoQSQQ8siFa/0vtV+TZXIubmiZ//NExKkQkG4oAVgYAH3IOZFQyX1v9ft/r/IAVBmCqbkQHWO8WWfQHPNici6T40JexA1TZSKWpiwEJBBrcGZkMyWs/7vmBjZkYCRRyj2JMcZsFYAyBxomR9Ekh4G7BzBe//NExLkg8yo8AZqQAB5mh9RMOGpsZF1FFG60EGZzAzdn1X9S5qaH0FLeaIqdmWt2UtS7a0qC9rPdjQppEDN63RU35rAKK++Dv/qH2LLHe2cV/rjP19/rHD6hoq0PVVDT//NExIggMdqIAZtoATQaNZFgEDIoqYsBeA3TMB0dLYGuZouGeLyV0ahruo8BnjAmrah4GzNqNfmCPrQ/f/+/rTLxiau7OaGHKdKkAaYbPfU+XZt///9os4rKrBuQbq3I//NExFoVgWqMAdtoACSwAiV0BcEQbL2gNLBgONP24zYFlfs4h8kgwgBqU8g2CxfOSpLDMAYQAw8pM6I+CC7vLBIfKRovVNm30P+5v9irc00KoaNWwVXuaqAgnuYs0bVz//NExFccCwaAAOVUue1v6HIQv3Sn1Y//X99P/1u6rKM0x3H/OclVs93rroGIrRrgBT32sNef0Gvp1AQzuEW5olBm2yn3QsGmaNiD6hcGzSX1MN0DWnU1z/yj8/3//Yii//NExDkZ8bKIAN6OlF+OiQ32/t+/U12owGgEg4dksPCcSyCoIwOweA4IGgH76azLooZo///uXLhdYKhdw5r7kfJCRRweSpNWn3CgkP+I0RexRRIhObfSumu38MAOEFTi//NExCQWIa6YANYOlNZ7np9Zyn7/7jGGH/8QDRvJEP///6is8mTNLnAuNmMsgLBoQmmjYOBM//tTEfOf//4tqXjF+iL4DWRpmZWMjMcgDV1wT+HOvqFDro5+sppSo1ih//NExB4RuWasAJYElKz1jWyemVTle3+q178/0KBv1Y7///2IRlKwEweMh0F5YCvOAyK//soSX3QNwEUN8mzvWaIIHw/G/52OpUtcvf/7fVrs/3mkQSQAWnr9IpHYN5P///NExCoSeUKwAJYWcNJBZjPqHsZ/099fzDEAQAoJslRV6wmNeJQkcB8rqR/Rv7ARsF1ZHkSWpZMAAmBA6jZzEcI2fkiYIfRV9RtKOf/kQJK5vq5PDDHz3adQT3yaOnSd//NExDMR0VasAJtSlf8QVOf4oIP6KSCbZVGW2YfBmSf/FcOf3DssWsGx2gUG8vukMBWNECw/Lx79iR/r/UZfqNiH+Wvx6A0ZPl9ZqKLmuuTpxEao/nyqov/hPivi1+Jr//NExD4SYfqcANQWmTVEjNuYi0yhvtgRVe4czwp5YYOCDjyIr8Y45YFQEtILWzAxNfqJA2/T/sk+pS3X/1KEoCoerDSzCCHqMymlCGC2mb/6//hv+pQmv1k0OjWuVjKO//NExEcSQfqcANNQmA7qiTyWaSjdQEh8xrBxkBL5XbGKys47hSYWn1nh+CKG3r/MN++ToL0cUq+GFURqIbRlqM+sspcsz+/8s8ytoFREv///9SmI5PtEH2UEGc5ppRoR//NExFEQ8QaEAOPEcGWrAxGGGg93pKViHAq3HGJqs69PBq9ccCinEhQp07UbO5nX2FmiLlt6B/onfR/bStunfV6H/0/dbWpjDgSCGltGFSD6PwFEuRLpTGHJfDtR2oe1//NExGARmPZ8ANPEcKoWGwdLt0u2ZlIKMxsBHOqpf9ARJZqoUBLVAolgaHnfq6v/+V1//Oz1R33CJ787Wd11MQRjZjg0FiaViQsCnERKdQgSIXLHb7UkfGUo0Qi5ByRO//NExGwSmQpkAVgYAOqjWlgXYtggmRe6lUtblYigkhFhOlav2RiPCm4o5ERO/3+hilyUIgH0JccBlQatL7fcmRxixmpBzMmhwC4Nr2q+qr+P4yYgGPgdhBFy4Yk+T69///NExHQiKyJMAZqIAdev9X9bZwnCKFkcYyZDCIDIE25vgifhUjdxehrcPA/e75+TR4eeLcQUNPH1cz/JjzExfF37D1PRJgTxfeWzc2PRy2pYILSSlZoeqQ+GrPSVaMQG//NExD4fcwq4AYxAATmtG8lDTlkYHg+nDwyngwP8BVxdgbABhYOChcZIrTZIciIr0N/gwfTmfy/2QMB5jwag6LCGYKSV5IqOkpTRdmbKrZ5j7+n3QCykM6W4zUY0EM7///NExBMVoeqoAdhQAP4fE7WX84qO3lS/rHhtHmjARBIc5qR8LztzYts5tyUiGmpxGEwEArXj8n+ee3nIZXQ9jzEZEUfhwNkT7gaDhz////6qQ7Jh+AGuUiGlAg+dEpAX//NExA8Uyf6oAKSWmVV0jAbD/SJ36Zx/Uga+omDM980IQB8TuYJAJAwLpdySzMdtN4Ny0HVumpJZ51/yb1f9pun52EtA8l2aEhqVuiEHRVPI1cv/eo+VSgfNFv3LtzQI//NExA4VqfqkAMtWmGQ8pdMplH7jxb6LetJL5gbP1MJzr+GicA07FyN4tpZ0vKx/ByO622mmaHv32sev+Gmzvt6JKNr3vPFpJp3aai8NWIQ1/////LLfedxnzARBbfIb//NExAoRId6YANHOmY2WR1xwEDowNM1BUNt54kt5h32f56/OQ5+ojEirOg6D0FpJWjUBQOlMNmocvmsvoa3Vvqbm5VENyoCqoKahkj1jgQMaSAwaDlh4fbS+GEAMVoAs//NExBgRyTaIAOUEcDifNE7Bsg9L5mQVHqABT8gAKfkKnU5W7EVejP0IUUZgXDP/6U2gmejiTlv////1VddrXY8FzE+s3DGF5rcGDIAYofGcEqzHdOixJx04/gMChzf4//NExCMROUqIANvElHjBP/vL+NX/31G+k7clOc8+roh6EuQVr//epFBrez///9SLQHLnrSWMMBk58LiUAw9StCGRpzQRMdg/5uXw7NYUkS94P8rmcVzWP7uYfcuGFijI//NExDESKKKEAOaYTPEU4AHxrJQ0TSz+31bd+KKR+r///ujopXZl8POK0MwMcDjQjTueHDAgbPyRkrXq/ZllURiE6+LwFFX6WbPkX5fU8D1IQeclVohE1CSynVW/0bvs//NExDsQ+JqEAOZYTOi3/7v//aXs1o1GpRI5gwHWKXlX0egp+DNyzgC1mT+s5dRSnlZBhnzvs5nbd0h1y5z/7xHdEdgs14gRatqZJyOv1/7KaG1Uv9zGN7f9+1+misxM//NExEoRsKqAAN6eTMPF3T11T/C2LtYlQyWPEVRRlmG4bh+K/FNEzL8xw6zMFo8SkBxz9Xbz0Sbni73LahHIrTkv8WGDLf/////uLp3KrwXDcNF9DdJ1RVr8bZoQjjwk//NExFYRAKKAANaeTMvciJG8YpuanIxLBYMxWBtXYsL7UmphoWMBYKhsKqIpEKFqN/s1930j0P/zX9fX//fbZtj6jNWpGhCKNSPDPr+3pxd5zJhbRFmB4pDS9YjVfl2Z//NExGURoJKEAN6YTFAkbQc8puAXHpq1q/Nz39x5hj///f/////eQOO1Z6r1gTX//////+aqxy3qSjKOJCMax9hQJrjCx+UQ4kTgb0K0NS8YjUAxcEASFKiY5AWQERN0//NExHERkVKQANYElCdLds4h639f///R/EIeYZccOS+qXB/T/s/////pvTm6kfAmMOb97InUNTyNcQicMQO6gx/BaoNEpE+H8BRuAocFuIaM0NwDGoQMcIGRJ8qEaKUI//NExH0RwWKcANzOlDvcsDrIm90S83UT5p0VIf/mL+Dq+glACAAwA4tAdAJlB/9CwNDEhQ8LD82mBuQfX2nwsV89/s9bzLU93lsh4f//+SsY0IjKmP7hbGOSk6TWpcyE//NExIkfIkaQANUQuDGwO7UmZh2zD615Q9K6BDuaOqAmriV6wyDNO7OEnJhk9EHAMAMblYqYRxpkiz7p9Iy7kyhGtOnDhmszO5kzNJmZzrW+9F7RkuvGAIGpaxt40LUf//NExF8f8cKUAM6YlOiAenRs8nBNctVfdsIHRqvjAMIjI4GzIGAf//0SjXEGoqXHKzDxhgRNCk3eNzAkVxbleglBnGTHb1eCEnz4Zy30u4hXamkpiVHHBEI8JjXdQaiu//NExDIeEjqYANYguPLh/JW33P/5RDPP7qUXef/8y//qbppa6BDj9MwGYDiRomzmhMClUT59ymRVFMyUQ0ydE4x5Ve+//fqd9SBtFAI///+/DsXq/v5ygV1FtY4ohgY0//NExAwUSbqsAMYKlCsdVWBBBY1hugSXVh5dpGXpIxn+RN/nZsYTTWE75ZzT6PxLd+pxAWfUz//086MZ5zkFhIWExcDCIdVFILO1jCRFQqjbTdXn8zUUMg3ym8nqLKzu//NExA0U6bqsAMPGlDqOibgMKxJHJ+Icjv34ig4VnLeh6ExflTl2IUhWWothTRZUPWwFfSsbnn//z/n0s82jnQQEzmSJerSNQ2cqDaAL//////9Sw5usIND0pfp/wQQW//NExAwTeWqkAMYGlbQPQu2WrEkyHuD1vFfxr2lhYF/dPY7z6kdl3dSiCXdvZ0MAztyILElxZEI7+eXlCzWNk0Z0MMKDe/py4OCqunFcuexiiTTODiCHCTsoGUYc/fpy//NExBESYVqIANMElBsAoAWuBlZ50rMYl4+nrV91bFA2tpa2raR8dGVqvnoxrhgxQzrBoY0j8v/ThRMFQlJZ6pFQFrdclYQyJZZjvZ13J0D6ejbhTigncxiZziidP4cm//NExBoSML54ANYQTOmrzMOApHNbzTZ1zer1/z40FgeENIHBgKfyXX2+liC5l2a/0+joe2pa2ZuxnrWhjdRuBJpN0kRJmgqJNmajb0NWA5EHSTBQFnJMsapaeShJvsvN//NExCQRCOJ4ANTEcKl/orwoAO6DKBRUHjzma2pY2z5bpX2/I/RX+1nt/V1VKrTDwaDmCuYuAl9xCBhQhDEhpyqipgGFTWU6N+m+sGI1M0+//9a90XvdVR2MZJ4djzle//NExDIReO50ANvEcK/v1KonwONXxrtatNT/un/o9KPVo09VNzSGTshzRqASKR/GlqUiezMwcB97pqdWMqUS6jfypTps6JGK2NWbYze2hX7JOlDe9n911T1ub2UU/79d//NExD8P2NJ0ANIEcEprCwo8AhUgM8gQQJA4jRCBoMFqFdQ1nZLuMl9RZ4PBIm9Pj0/M+bnYABxTyK2W0N6Q5XQxO3pFw2no7X8yhn//2N/H1QoHAQ1Kg0cg7tg4Ko/y//NExFIQyL5wANvGTEs35dJ1pmHZp/kwVE0AoigES06oGgK5QdEuWKhqHBEn/lv/Khrgq4qCvniXzzWSXK1hv/b8kgrhYB/qxqc3zLcK4wVRguQKDyDxjs9s1KORBVOm//NExGEQ6GZYANYMKNwGAxoaMJFSyg9EJ1D1ilEi28SjNQi91m9a6EWTT1iqDQ8VFTRoVFSBqKre/ooEJRMSaUFblD78xKVjgUwcCmLIlQSLUBAxAoK4kM6s4kNBQSAp//NExHASoKn4AHjGTBCYCJBUBEQkBSITMhIelgCJPxiNLXsfj0MoYPx5LQFDWtr9VUxBTUUzLjEwMFVVVVVVVVVVVVVVVVVVVVVVVVVVVVVVVVVVVVVVVVVVTEFNRTMu//NExHgSGJnAAMGGTDEwMFVVVVVVVVVVVVVVVVVVVVVVVVVVVVVVVVVVVVVVVVVVVVVVVVVVVVVVVVVVVVVVVVVVVVVVVVVVVVVVVVVVVVVVVVVVVVVVVVVVTEFNRTMu//NExIIAAANIAAAAADEwMFVVVVVVVVVVVVVVVVVVVVVVVVVVVVVVVVVVVVVVVVVVVVVVVVVVVVVVVVVVVVVVVVVVVVVVVVVVVVVVVVVVVVVVVVVVVVVVVVVVDTD8AcDl//NExKwAAANIAAAAAAj4mbETgyHakNBUN6vT3ngMeIAAw8mnh5NNiBDDyCjyemQ9//iVzrn/+n19E0L9zRIm5xCdCcXAgRPy5Q5icCO+TEBcfkBOXHHErPhgnwwJy4WB//NExKwAAANIAAAAAALnwfKO+GEw6PZBEs6RIgg0QCUv5eKQydUNqYsFlEPWpoQVACgDHYIiLEdEkSXCUIyM5Ek9SiSWUwlIzk9xb2Wtq2JMtoutM1r1a1ri55lb9emv//NExKwAAANIAAAAADTzJKyOEknIolgo0UAkwUJKI5s4SSlH/ZIwSSNS+d5an2ZOJFkYJZX9UaRMIqOSeZ9SxLTUTknp8rTSJQNhxLTSKLEpOJbM41dteWrTaRJRzFmT//NExP8X8YHgAHmGlMNNCAmLGmlVk0kygMCFAYgmgtGidNNNNSz//0VVVP9poq//p2iJV00003WCaaL8qqphq8/8StNUz//1Qaqmmmmi6xWmpUxBTUUzLjEwMFVVVVVV//NExPImcx3YAMMMvFVVVVVVVVVVVVVVVVVVVVVVVVVVVVVVVVVVVVVVVVVVVVVVVVVVVVVVVVVVVVVVVVVVVVVVVVVVVVVVVVVVVVVVVVVVVVVVVVVVVVVVVVVVVVVV//NExKsSYGkwAHpMKVVVVVVVVVVVVVVVVVVVVVVVVVVVVVVVVVVVVVVVVVVVVVVVVVVVVVVVVVVVVVVVVVVVVVVVVVVVVVVVVVVVVVVVVVVVVVVVVVVVVVVVVVVVVVVV\" type=\"audio/mpeg\" />\n",
       "                    Your browser does not support the audio element.\n",
       "                </audio>\n",
       "              "
      ],
      "text/plain": [
       "<IPython.lib.display.Audio object>"
      ]
     },
     "metadata": {},
     "output_type": "display_data"
    },
    {
     "name": "stdout",
     "output_type": "stream",
     "text": [
      "One\n"
     ]
    },
    {
     "data": {
      "text/html": [
       "\n",
       "                <audio  controls=\"controls\" >\n",
       "                    <source src=\"data:audio/mpeg;base64,//NExAARSMl4AVgYAFSLsfh40E5hKZzhg0tDa8DTaUCAAYCsDc1jxpQNdc9DDkP5Oc056J+gG8Qq7wDAzQADEH4IAgUc2c/+IDnKODH+D8QHCiqCzjhRQALEc2/TbEB8//NExA0UyypYAY84AADTGn0pqv+jywCBj67DRW/0q4+Nyf/4xMJqN/7fiseEgXsTM///ZBoWJuag9///+ah43PHCEw9zP////+eJC1G56nxuD8nViLxxNqlKIQMVkyzW//NExAwTueKUAZooAHZxxaCDH6PkMbtVNU7fT//+jX62+jMzkZ2OhTKwmZIILGP3qkXcliKIyC4gjRUcjEeJp26UNOPFvq/Q9Y3HihoPjSKatZUMOo2nAQhl54JC3GG6//NExBAVMeKUAdooAIrfl/f7qWf//+I76/X///+8idBIO7uh6FIJCYMICZGKEx7j2dBMqmIyKQw6HIiUeRxAVJCqScWcT7P/XY1USFI5w9bGKr++fSuEOxiCy/IYeGX1//NExA4VKeKYANlMmNSi4z8LP8Vf5m9UJ8n7f/38N/skwdd0eEH7vNTkmA00nDJouZD+7bMfH3Pr2ugcOUCWg5ZoMtS9ooX3suT/+82uPpUbNpCdt87hTxgEnjsuQ4uw//NExAwVKd6kANCMmDgat8BMvA38F+GV/V/2OT1Qjf//9ny7tywYEwHTSOrSFsWPFCxUFoYt7+2/fO0dGoNMKQg5zh0HFmgcYrjv//n2scXFKxZIvJrv/+8J8xhD9JTf//NExAoTgdawAMlSmK9nLlUAPzHO/Qwmd+rO31Qn3b//txnP/tEIbyqtrcR7g6QpHyQnPtOQw3G/kflJyhDMjSbUD0YPQHx4dUlf///Wzq+YfqWPgLXgO2qEEiENmeJC//NExA8SKd6wAKFQmcT8oHf5RhPqU7+jtbuVLv8UYBMGhialB04cIRQ0OQeEMIHPZlXVkjVVunea6UkoUHGqSOYemmQLT+3vP3hXmE/zLfwyA6tqzl+EW/CIu30O36gI//NExBkSMc6wANFOlCnsgHBIyaFQGiY3opEqWPXUoC4NiQYjLOOOb+x/6H7KahUYG5586HQG16jTf///pbX8/CnpHHM4YDdLbS3WP4UBv6hSFZlGcLgDiUu48C2HEdqk//NExCMSIfqkANKKmCSoOTviT/dBJ9GqgsKfoZv6fyin2OAqLrRSj+QI///9rlnJ+pqV7ruH/dSkMO6jcAVA57a07kifBRFJ2U3BJh3OggVD6LAFuEBupS2UiTf7H/3///NExC0RmdKYANtKlKG+5SgVv1L/t/QvKkoi7IHVSQUf///6UOJKpaTOkl78NbBg4MPUwMAJ9oc4O2EGGEWzTxYUvoVUDQw/NfVlsuzwt2ZdKrOlqAQM5B53/coVli59//NExDkSWJqQAOPwTGAf9wufOHvyk61f///2XV017fz1upAZImNnXTri0V7FI+ITAZgcHKFwh5bWkgA5ADYkZRMhy3WM+KOl9Zu/5/6//+n6gOP5Pp5RqZfrN2tbzn////NExEIRUVKcANUKlPxccpXDn//bDDzzEd2tjh2kHSwfupxlHKTtIssOXt1calukj6E9Wv//95zff///Z/9vyf/9QYYesPnsPtwIJWQed+q9Qs7Jqm9nDOQrEPNUsjwT//NExE8QyVKwAM5ElGhwLq2pTyZkZKenVb5lUmVkIQmSAv7ve4YRi13//9XvyFb7/0X9FKbUPgcUNq6uXznMpecPiwlb/xqzofYK1fUspAGQEmMzFLRAygosnmdEugVF//NExF4SSb60AIZKlIB3Yb5aTU5GALIg1USSWtxrmv1GrfW35v9v0N9VC6FmU9lHH+VOdfOEp2XlepvdrplA6sOf/4NjDzQjCVY06+DFYzFfjHWbxAhQfkI1jR2n/gxO//NExGcRqdawAJ0OmIJvwdVs/uMXn67/6wqU3/50b5Dfm/RW6EESCyCAgYUUVnU7kFd5GMALuBAWDun/g8r+a+44BLseS/OebWCqc52LIvFbq2HxIUA6Rd5m1mGoqkCa//NExHMUQbasAMYKlFwCcxbGPcn4drU1r88L+PP/1Yxvs3//9DGsHgFEACDwsYidPFWiUFQESAIK//5WepXUtdILjG7kd6QXDL8sykQFcGPPXy7C43ykbvNxdxiSJaJW//NExHUUMWqkAMYKlEL0BPDzQgyk68Q6Pj1xGyAnlZb/+RcRLKPWfoCh5lmz69IlO0/kKgQsdI8jg+WK3GCUPFv7o/VkjAxk+6g0IcACCIpMoWSEDSbPDZZoTQJOuCLu//NExHcSkKZ0AM4eTDL2d1X1K8xp6XbK69Z2rY/dfp1tT5J0NzhBLfBA0GUL/JHJJTIfZoAwRPTMo1BY75StcM4kkHYwNnlB6scOpUlZJjCSnjlzNroZLCx49RZZ3Vgl//NExH8Q+H5EAMvSSKY49KuXep6ut1lvsSo7AeRAGtizQR6ms2O/zu7X3ud1qv3erNUgdDihKZGueYNESpZKFlUHRZUrQPU94sl+pnImqVNObNi5bz2cYkB/IKz6rFwq//NExI4R2Io0AMoETBoHEIZGoM4bp8ea5bqYcB0g+j7+d8RDww2+paQB4AAXgHbQW6bsuBnKAoMmgbntX/GmgF9xQgnDez/iyDyZfKA4F1/24oAcCYtghOPYgn//7yHD//NExJkRwIIoAVgYALCKFxAihoeHBWtm1Vfar8plcvl9BM3THPMiobez/X7fqWv8gBICyC0bkQHLHGJ3LaA55kTlLpPjQl7EDVNlIpamLAQkEGtwZmQzQ1n/d8wMbMjA//NExKUhqyo8AZqYAEijlHMPccZsFYAyBxomR+SQ8Ddg5gvDzKB9RMOGpsZGKKKK3oMzOYHbJaqtqlzU0dCtKaMpVlrepfbWlQXtboGhuk44TQkUUPnQEJQkcodrAKBh//NExHEfAdqIAZtoABe+sKEK4Q6IuHgfmZNNQ9MoymfERtI4YOBF4UvVbWYHEdwGqoq81bpIBGkOCG0adq/WgoBpiYlFndQyC8yOoo/MEfoP9///1pl4xNXdnNGa9Tei//NExEgY6xqIAdtoAKPJGWkbpfUl3q701V9N///////7rrsujujWbJqEbq0D4lUDEsMBoMfGXsUYGCAoa30hoAOKTYY747gtwBsFGgDAMU43JUeBcgGFgUNFJB1j4GZ3//NExDceewZ8AOVUuXlgeKuUiou6pPN8wZ2Xf1O+rFWTU0JoQGVsHrseaecAiecYVc0bV3tba3dxie9+nWRsuZ9ftf//W5y2KMYhjuP8uyWz3es4AMO+BYCvffR/oyF7//NExBAWga6QANaOlCA+jtyC3NJ3mkjnVJuNVvu5EUb28p8NbuP9FNf/6m7f//+NSfjpBvt//+rO3CoORIdth4dG5ioIwliIDwgGjv/Qiq////ubNyQnw5/6j5UGFFyB//NExAkUYbKcANYOlCpWtQGFgYnYT4l9i9KiEZntN2t38MAdUHLl2Pc9RGct9/9yzDn/8TEG8kQ////x8889i5wRGzOYLCBk1RsMGF//qP6P//9ftoX6IvgNZGmZlYyM//NExAoR2WasAJYElMcgDV1wT+HOvqFDrox/WU0pUaxP9nrGtk9MqnK9v9Vr35/oUDflY7///2IRlKwEweMh0F4iArzgMiv/7KEqX3QNwEUN8mzvWaIIHw/G/52OpUtc//NExBUSUUKwAJYWcL3/+31a7P95pEEkAFp6/SKR2DeT/9JBaGfxLGf9PfX8wxAEAKCbJUVesJjXi4SOA+V1I/oqv7ARsF1ZHkSWpZMAAmBA6jZzEcI2fkiYIfRU3qNp//NExB4ReVasAJtSlUc//IgSVzfVyeGGP/dp1BPfJo6dJ3/QKnP8UEH9FJBNsqjLLmHwZknDH+4dli1g2O0Cgxy+6QwFY0QLD8vHv2JH+v+ZfqNiH+W3j0Boye19ZqH1//NExCsSIfqcANQWmc1z5OsNRzH8+VLRf/D//i1+JrRRIRtzEaZQ320RVe4czwp5YYOCDjyIr8Y45YFQEtHi1swMTX6iQNv0/1Mk/Ut1/9ShKAqHqw0swgh6jMppQhgt//NExDUSMfqcANNQmKZv/r/+G/6lCa/WTQ6Na5WMpiOliTeUsok7iAETmP5eIwMslYWMVhqsWYNGF30ZgPwIQa9P8w2N8hoh3RBb8SA1K0Q3ZUUc97TzJQGv/u4dFhQX//NExD8SGQqAAOPKcEnTk7b/9XK+cSqI6dqIPsoIM5zSSjQiy4YGIxBoPdlIKqIcCrUcYhKzr08Gr11oUrqFBuncvIzc2P/Yh3kRrqvd/pJduo7EREq393/6l2MOhIH2//NExEkQ+PZ8ANPGcFtGFSD6KQFEuRLpTGKS+HZh2oe1qhYbB0u3S7ZjVAYljgFS6qlD+gIks1UKAlrAolgaHjP/oz2wj7pX//9TqOq+sNdVajCC5eYgFHxcS15GqcS4//NExFgSWQpkAVgYALatAsIuYdvucnQylGiEZQhouNVGtLBFjQEpkXurS8rE4KIRYTpTV+yMUoZuMMiIuPX/ti4ywSAnwtkEMqHS+33LpBxpniJplIgguDZn/6qvvJUc//NExGEf8yJQAZqAAGI/IwiBEGlwxJ8v9/+v9X/zhOFwskTHGUCIDsL7m6In4VI3cXoa3DwP3u+fk0eHni3EFDTx9XP/JjzExfF37D1PRJgTxfeWzc2PRy2pYILTKVmh//NExDQfCwq4AYxAAeqQ+GrPSVaMQGOa0byUNOWRgeD6cPDN4MD/AVcXYGwAYWDgoXGSK02SHIiK+N/gwfTmfy/2QMB5jwag6LCGYZJXkitSUpouzNXKrZ5j8ZOsgVFQ//NExAoUWeqsAdg4ACdLcZqNGDgd//w+J2u/ziI7eVL/jQ31FAkMc5qRsJztzY3Z1uROFmpw+BAAwrXjcv9T285DK6HseYjJUbhxrD7g6QZ////9SkOyYfgBrlIhpQIP//NExAsU0f6oAKSWmZ0SkBdVdIwGw/rSKv0zj+pA19RMGZ75oRgHxO5gkAkDAul3JLMx203g3LQdW6aklnnX+83q/9N0/OwloHkuzQkNSt0Qg6Kp5GrL/3qhKowSlIv3//NExAoTAfqoAMqWmT26AGJgdO543JfuLLfNb5x3yhM/Rh51/DRBg5Ow6R7EWlrmUyHBFJVzcpnD383Tr/hqTv3opG37zxaa1+9ReL9git953k+YCELb5DcbLI644CB0//NExBERgeKYANHOmWBpmoKhO3niS3mEv3+ea3uh3qIxJWdB0HoLSStGoCgdLNY1CS+aab6GsmrV6m5qSrBTRSENoLVDJHjHAgY0kBg8HLDu+2loL0AYzQBYcXzROwbI//NExB4Q2TKIAOUEcD15mQVGqgAAT8IACn5Cp1OVuzKvRn6EYUFC4OP//vWBC2KmJP0V12m3HguYn1mocwvNbgwZADFD4zglWY7p0WLeOnH8BgUPv6PGCP/8v41cf3pG//NExC0RmUqIANvElPpVuSnOch9Xm5GcgpF//O9CED7X/////+KKkT7y560ljDAXOfC4lAMPUrQhkac0ITGYP+bl8OzWFI6veD/OzOJZrHfXMLR2UcLFjpFR6aObcROe//NExDkSMJ6EAOaYTK/6vrLWaGDf3u///vF7iCp2Y27zXV/mCkMdEFqSzo3sBxGcpYtVnU32ZXNEYhOxzjG8nZ6QoaqdT0vlrkPDgCi5KhjRCCz0JcLarevv/2e1rfZ///NExEMSoJqAAOaeTLRTX6NOmjF6jUalEjmDAdYrvF7R6An4M3JOALX5P4bjVFKeTSDDPnfZzO23peuXOf/fj6qPpiqxjhlzVMWYu/9MjNEr/3//pr/9mtS1JodqVYeL//NExEsRcK6AAN6eTLp66J/ha/2sSoZLHiLooyzDN937ivxTQLh0dt7EcWfcosPYerdOeNCTOPWrbVyLU+j9Tu3/d+7/+j201a8Fw3DSEw3KdUVZfL2aEIw8JNAUiJG6//NExFgQCKKAANaYTLAmM1ORiWCwZisDavCwvaptTDQ8NCyw2KqIxCtfT1Mu2/vS1FCP3////9tnWPWGasxGguONmVCSrk3pAsOdy0BgBEFft+H2T5hmq6rsyoCpYrT2//NExGoRIJKEAN6YTKbgFl9NWtX5uRf3HlTHn//f6+3///eQDHaXfVrrAlxf/////1rHLepKMo4kIxrH2FAmuMLH5RDlqWJ5NYs01V6DFxasHzmb6IBIrbw+vR/z/qYf//NExHgSaVKMANYElP/3e+v3//9H8Qh5jY4Zn9iAfP7/6r05upHwJjDm/eyJ1DU8jXEInDEDuoMfwWqDRKRPh/AUbgKHBbiGi5huAY1CBjhAyJPk4RopQg75YHWRPdE2//NExIEQwWacAN4OlG6ifNOipv/zD/B1fQSgBAAYAcWQOgEyg/+hYGgiJCh4WH5tMDcg+vtPhYr5W/2et5m6e7y2QXe///22EWhEZZj+4WxhyUTpNalzIQw2BrtSZmHb//NExJEfKkaQANUQuDE615Q9K6BDuaOqAmriV6wqDNK7OEnJhk9EHAMAMblYqYRxpkiz7p9IzZ1/KCQ/z9Sirj//vL/9n/FOdcsN0iUbPXAEB8foTPEIPy9yCATSUQx4//NExGchOkKUANaWuKwIzY1LremyK99R///1Fu3VfEPpcDANX//5RriDUKXHKzDxhgRNCk3eNzAkVxbleglBnGTHbNeCEnz4Zy4Yu4hXamkpiVHHBEI8JjXdQaiu8uH8//NExDUd6jqYANYauJW33Ob+UQze/upRd5//zL/+puml5oO4/TMBMAOonJskaEgFxRPn3J49WTSMB2mTonGPKr++/79T+gbTwEf///fh2L3+/nKBHBD2saUVBMkB7scq//NExBAWcb6oAM4MlKtIHNjWG6AdClzy7KF1l+Yd/kBuU7NJhNMMQ7xjlx2HUiu/ezEt/et//////aP+9tlb7sgSOSPTChJF2LhJeNlHGO0uXa0vq/+t1/cdgAJTTfZJ//NExAkT0bqwAHvElACTFrhrHrA+uGI5vi5I79+OwlrjlvUahi/LGdxCkdlqNAxosqfcwpcimc73/p/Vr3Mi1BBjK7IRasrOpr1INQBf//////qVw5usIND0pfp/wQQW//NExAwTkWqkAMYGlbQPQu2WrEkyHuD1vFfxr2lhYF7unsd59SOy7upRBLu3s6GAZ25EFiS4siEd/PLyhfY2TRnQwwoN7+nKgcFVdeVy51Xsook0zg4ghwk7KBlGHP36//NExBASKVaIANMElHIbAKAFdgNWedKzGJePp7b91a7A2tpa11uPVOjK1Xz0YyuGDFDOsGhjSaft6cKJKgrW6pNmRDUlQoQyJZZjvZ13J0D6ejbhTignexiZzihKn8OT//NExBoRwL54ANYQTHTV5mHAUjm3naGt71ev+fGgsDwqsyBwIeu+3rVa2740zzT/r+5Fr79C/Tcr643UbgSaTcJESZoKiTZmo29DVgOBB8kwUBZyTRulp5KEm+y3m1b+//NExCYQ6OJ4ANTEcJWFABTmGKVFQM9zNbVkG9XM9K09n3/r17G/b/6otbTKwaDmCuYuAl9xCBhQhDEhpyqipgGFTYXaN+m+DBiSPo2/r/Vf1X3VUOxjecSiLOcZTzV7//NExDUQuPJ0ANvEcPsrmktTQ3XZvs+j0ooQkSRqKZrkJ6xprWRgSCAMWelgAlsvMBAHy7mKdWMp0Rljecyk0hT84mMFso0NjtyVxRzNOhNe4iiRzSlPs0STKKvS6efS//NExEUSENZwANIGcO6d2iprCwo8AhUiM8gQIJA4nRCBIIFqFdQ1nZLuMkPxZ4Mglb09LmfmUzOwADk3se2wXQNYTBlOS+8y5J1wi/3oemr+L7pK2yz/rgoHAQ1Kg0cg//NExE8RsL5wANvGTO7WOCqP8ks35dJ1pmKxJ/kwUJLAKIoBEgLEQdaeLFTuwFTtQNHviIS3B3/Ku8SuWCp3v9v/5X/EtQrhiD/VjU5sTLuDd0aaoS2My2ZJq12/rnlH//NExFsQGGJYANYMKFIKq5mUwwGNGRhIkBixKVah8UokWzyxj8RbLvfXQSnlveVoNRVZo0thA1FZ5/QqBCUTEmlBW5Q+/MSlY4FMHApiyJUEi1AQMQKCuJDOrOJDQdYa//NExG0SCMn4AHmGcMYKSCoCJBQCkQkBSQFItHICpnQwZj0hJOlrrBhHSLuwEzrqTEFNRTMuMTAwqqqqqqqqqqqqqqqqqqqqqqqqqqqqqqqqqqqqqqqqqqqqTEFNRTMu//NExHcRkLXAAMGGTDEwMKqqqqqqqqqqqqqqqqqqqqqqqqqqqqqqqqqqqqqqqqqqqqqqqqqqqqqqqqqqqqqqqqqqqqqqqqqqqqqqqqqqqqqqqqqqqqqqqqqqTEFNRTMu//NExIMAAANIAAAAADEwMKqqqqqqqqqqqqqqqqqqqqqqqqqqqqqqqqqqqqqqqqqqqqqqqqqqqqqqqqqqqqqqqqqqqqqqqqqqqqqqqqqqqqqqqqqqqqqqqqqqBbgzADAt//NExKwAAANIAAAAAKBfCvTxBC4LakLYqGNDzf64XJygIGFxWjxcVtpIEGLkjl0eqMXPPZxCDu4s0LyqFXfRCRN/8tOnEKoQcWwAIo788DDPzLCQDPnsjwCO//MH7/+v//NExKwAAANIAAAAAB4iP/+YH5lgCOeHtCI+aRksIgLQ6gFDm5aUJbotEzZuKgSm0bWFYLMQ9buCSiCYDy8GoixHRJJrhKJ0ZyYnsJJPUIyjWu5WvYuucupj2i6OvW2u//NExKwAAANIAAAAANazlJORp0c/anrZyqc1FyKJwCWChLEc7+qef+5uHEnJJSj62cmWOqUcqf6p5xp9b/MtMHaai1bX9eZYlhxLTSOVWeq01FiWEtNROScGG6SIsy+H//NExP8asYncAHpGlVowfMtNRStJUoDAhQGIJoLRBkWFhYWFxUzzQMhUUFm1Ct3rFRYW8BBIWFWRUUFjQ8VFhb//FhYVImZMQU1FMy4xMDCqqqqqqqqqqqqqqqqqqqqq//NExOcjgxXcAMMMuaqqqqqqqqqqqqqqqqqqqqqqqqqqqqqqqqqqqqqqqqqqqqqqqqqqqqqqqqqqqqqqqqqqqqqqqqqqqqqqqqqqqqqqqqqqqqqqqqqqqqqqqqqqqqqq//NExKwP8GU0AHpMKKqqqqqqqqqqqqqqqqqqqqqqqqqqqqqqqqqqqqqqqqqqqqqqqqqqqqqqqqqqqqqqqqqqqqqqqqqqqqqqqqqqqqqqqqqqqqqqqqqqqqqqqqqqqqqq\" type=\"audio/mpeg\" />\n",
       "                    Your browser does not support the audio element.\n",
       "                </audio>\n",
       "              "
      ],
      "text/plain": [
       "<IPython.lib.display.Audio object>"
      ]
     },
     "metadata": {},
     "output_type": "display_data"
    },
    {
     "name": "stdout",
     "output_type": "stream",
     "text": [
      "Two\n"
     ]
    },
    {
     "data": {
      "text/html": [
       "\n",
       "                <audio  controls=\"controls\" >\n",
       "                    <source src=\"data:audio/mpeg;base64,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\" type=\"audio/mpeg\" />\n",
       "                    Your browser does not support the audio element.\n",
       "                </audio>\n",
       "              "
      ],
      "text/plain": [
       "<IPython.lib.display.Audio object>"
      ]
     },
     "metadata": {},
     "output_type": "display_data"
    },
    {
     "name": "stdout",
     "output_type": "stream",
     "text": [
      "Four\n"
     ]
    },
    {
     "data": {
      "text/html": [
       "\n",
       "                <audio  controls=\"controls\" >\n",
       "                    <source src=\"data:audio/mpeg;base64,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\" type=\"audio/mpeg\" />\n",
       "                    Your browser does not support the audio element.\n",
       "                </audio>\n",
       "              "
      ],
      "text/plain": [
       "<IPython.lib.display.Audio object>"
      ]
     },
     "metadata": {},
     "output_type": "display_data"
    },
    {
     "name": "stdout",
     "output_type": "stream",
     "text": [
      "Five\n"
     ]
    },
    {
     "data": {
      "text/html": [
       "\n",
       "                <audio  controls=\"controls\" >\n",
       "                    <source src=\"data:audio/mpeg;base64,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\" type=\"audio/mpeg\" />\n",
       "                    Your browser does not support the audio element.\n",
       "                </audio>\n",
       "              "
      ],
      "text/plain": [
       "<IPython.lib.display.Audio object>"
      ]
     },
     "metadata": {},
     "output_type": "display_data"
    },
    {
     "name": "stdout",
     "output_type": "stream",
     "text": [
      "Five\n"
     ]
    },
    {
     "data": {
      "text/html": [
       "\n",
       "                <audio  controls=\"controls\" >\n",
       "                    <source src=\"data:audio/mpeg;base64,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\" type=\"audio/mpeg\" />\n",
       "                    Your browser does not support the audio element.\n",
       "                </audio>\n",
       "              "
      ],
      "text/plain": [
       "<IPython.lib.display.Audio object>"
      ]
     },
     "metadata": {},
     "output_type": "display_data"
    },
    {
     "name": "stdout",
     "output_type": "stream",
     "text": [
      "Five\n"
     ]
    },
    {
     "data": {
      "text/html": [
       "\n",
       "                <audio  controls=\"controls\" >\n",
       "                    <source src=\"data:audio/mpeg;base64,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\" type=\"audio/mpeg\" />\n",
       "                    Your browser does not support the audio element.\n",
       "                </audio>\n",
       "              "
      ],
      "text/plain": [
       "<IPython.lib.display.Audio object>"
      ]
     },
     "metadata": {},
     "output_type": "display_data"
    },
    {
     "name": "stdout",
     "output_type": "stream",
     "text": [
      "Five\n"
     ]
    },
    {
     "data": {
      "text/html": [
       "\n",
       "                <audio  controls=\"controls\" >\n",
       "                    <source src=\"data:audio/mpeg;base64,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\" type=\"audio/mpeg\" />\n",
       "                    Your browser does not support the audio element.\n",
       "                </audio>\n",
       "              "
      ],
      "text/plain": [
       "<IPython.lib.display.Audio object>"
      ]
     },
     "metadata": {},
     "output_type": "display_data"
    },
    {
     "name": "stdout",
     "output_type": "stream",
     "text": [
      "Five\n"
     ]
    },
    {
     "data": {
      "text/html": [
       "\n",
       "                <audio  controls=\"controls\" >\n",
       "                    <source src=\"data:audio/mpeg;base64,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\" type=\"audio/mpeg\" />\n",
       "                    Your browser does not support the audio element.\n",
       "                </audio>\n",
       "              "
      ],
      "text/plain": [
       "<IPython.lib.display.Audio object>"
      ]
     },
     "metadata": {},
     "output_type": "display_data"
    },
    {
     "name": "stdout",
     "output_type": "stream",
     "text": [
      "Five\n"
     ]
    },
    {
     "data": {
      "text/html": [
       "\n",
       "                <audio  controls=\"controls\" >\n",
       "                    <source src=\"data:audio/mpeg;base64,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\" type=\"audio/mpeg\" />\n",
       "                    Your browser does not support the audio element.\n",
       "                </audio>\n",
       "              "
      ],
      "text/plain": [
       "<IPython.lib.display.Audio object>"
      ]
     },
     "metadata": {},
     "output_type": "display_data"
    },
    {
     "name": "stdout",
     "output_type": "stream",
     "text": [
      "Five\n"
     ]
    },
    {
     "data": {
      "text/html": [
       "\n",
       "                <audio  controls=\"controls\" >\n",
       "                    <source src=\"data:audio/mpeg;base64,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\" type=\"audio/mpeg\" />\n",
       "                    Your browser does not support the audio element.\n",
       "                </audio>\n",
       "              "
      ],
      "text/plain": [
       "<IPython.lib.display.Audio object>"
      ]
     },
     "metadata": {},
     "output_type": "display_data"
    },
    {
     "name": "stdout",
     "output_type": "stream",
     "text": [
      "Five\n"
     ]
    },
    {
     "data": {
      "text/html": [
       "\n",
       "                <audio  controls=\"controls\" >\n",
       "                    <source src=\"data:audio/mpeg;base64,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\" type=\"audio/mpeg\" />\n",
       "                    Your browser does not support the audio element.\n",
       "                </audio>\n",
       "              "
      ],
      "text/plain": [
       "<IPython.lib.display.Audio object>"
      ]
     },
     "metadata": {},
     "output_type": "display_data"
    },
    {
     "name": "stdout",
     "output_type": "stream",
     "text": [
      "Six\n"
     ]
    },
    {
     "data": {
      "text/html": [
       "\n",
       "                <audio  controls=\"controls\" >\n",
       "                    <source src=\"data:audio/mpeg;base64,//NExAASQL14AVgYAFSLsfh6y95hKaThg0yDe8DTaUBAAYCsDc1N4eUDXXPOw5D+WP076J+gGLiJu8AxYEBA4XPlAQOAhkP//tLvIZ/aXPwQd//63h+rL12vsYywf2ng//NExAoTgypYAZgoAPlUOFyNcptvZT8zqKgIO/yCi//Vw+Hw//+CEILof//ERICD1A4E///K9TmFCCH///7JyCAoHzyf////5GAmKEnRg+B3IuTI6SeFIAWAYBAb4sBE//NExA8WCc6EAdEoAMZ8vMdN/6+2u3r/+nv+i2o6CQ6pRdFFGIhisHBgTGMpiGFGc51QUVyEfOIEYaKA2HhhwQhkUcjSGGoe1n8nqGjjhcmHyGJzRsmqmLV/GXJTHKtA//NExAkUydqUANCGmONJEuNGYZehqM0PuDHbq6N1f////+Xc+Fq4AgMkO5cEoBAYoAUIMQcdmRwlXYlM0YSSOMQ5FBC0VS1Imk37G/8rYfVFij2wutjFVbe94TKjxmcR//NExAgUOdqcANCMmMoJDOnI7TNnkx/AhHlDv9P7f////x/60tZ++jSE78kspXhaXIIIGNy0sjd+bEZk7dhaR0UgYIAINnGh5hdHuTq/964+ZUkDJCa//eWoyMjGtmmc//NExAoUqd6kAMlMmOGt+XVYi1EN+I/Vhc7+5Psdvv/+M//dog0WUMH7FJVwhgQgtMAgIg4ZEuB8dN5YtnPuebQQ56Z2CCRABkhAaXI47//7TrBif1V9nYcoCNQA4GF0//NExAoUsdKwAKHSlMl9ikDoh80wxupqGfVP7Xv/v5Oe/+OLo9rSqhckc5CnBpxGSGEyEPE6SjWKspTrPO41NLLnUYKokDCSQKiMGhQNhwd///7d36F+pzwERgB7YTcZ//NExAoQid60AKCMmDtqUn0DBxfzHI3oZT/RwAR/o22/40BDSafoolqIWt93gpBNoxqnKy39VLO0QzHYsyfVciWyz8KVqsufvWcwwsxX8ImOrPWcvxOW/Uef9SD/UeJq//NExBoRkdawANHOmK+omByJfmCMA4bp6OxzPnHhCME0b6o36f7H1oPDYuRG7nRQsC4F6f//+yn6qjZm00CLgGGUFoYkaoc4rI3/+IZfUaFG43hueZ/mpBA6Py3KwDAM//NExCYQmUqkAKrKlN+oi39XpZIiHW6+oO8k6kqIN4SOdn///FRrsl01yxyw1+N0cfRehl1TW+LNw65Mn+tx9gGyTpJmhQPkVJ0ZUPhRRb1mJb/mTf/+U3u0q/1f/T+g//NExDYRqdqYANyEmJerVQwnih2iIf//+sKPrsyqpaTWHZidKhY7Sk+ysaBWc/tvogkQ1iVftyXzCsocOCwbsVsawt3aay90HDdY4Wdf/qBYWOL0f1sWgOGbYvZa3/////NExEIRAJKUANayTO3oyv97+GTCDoygoAURqGgeyqvBTdXlI1+XfgsISXGgxi3f3Tz7sU/8/96pNf//+iJ///7/yAg0xZ9tPTU0uD7949sP003Dn/+6iM4HOgmc3hfp//NExFEQ6UqcAN4ElABI8BjsHhNi4XHPBdMHIi+YspZqMeAuDFWn1pk3+mP/p+hP7fqoaG3Fz+XD2XNWFwc/+oez////QmbsZAtIC8P5i8xJIYnR9dWtQ0tcUCIqGXW+//NExGARaUqwAM0KlGrl5eBkAApKBsu55w3Lu///9fX5y/T+S3o0rPhzCTPzuX5zKXqDMDK0u/+vGvClFW6lkoECIgTHncuBi8zY5v+cv0suBkRT1Sx+MxETCn1qy7Lu//NExG0SWcK0AG5ElD8Fu93n//4T3/H/0b9G/P/KAVIlqnxoS+g8dz1cA0uzLOLHc536iKT4qd3f//pVw/+6u9ApXsuUeVlgZh2hDO6wutfKgYStGM87UXZgVR1zQq5u//NExHYUUdKsAKaOlJ8oId2l/n7r26bv53Y32f7S//OyWIAAAcCMZEIVymKzTkcKUERXGERv/1lAsBjZRbk5+sH0MBEwovK4yjeEDSxL6MjfCJuAwlkBxY0P38lbrs4M//NExHcU4cawAMZElGBFKDYvPcljhS25388dd3///////zKVAICFGb6hFWAA61SJQ212ICEIqwhDhjiNSbizkEGnNqeU4YzKrK7l9ILQ+xF42mEEiNYbybUhOkmLaS2J//NExHYROWasAMYElBs4jWhqz//rDZGHVf8Gv/6nwVoLSB/3nhIFkbRAwosVuqrOUvJ2jiaFdHToHhliVwVBElFScFpPNs2d5j+r6sNb3Fb3ZVtGjp5LPZZlMq7hP13q//NExIQQ4KKEAM5eTN9VA51fF+oMuKbP+/MZsfDkAMWlz0tbC7RehRqqGGMSNDj8DKap2SpYKufQx/LPuaIqhX2VfczLb69b0v8q5n05ZTIaGC5a8LMulMopLUur4U2H//NExJMQaIJMAMPSSG7a/Kpu33m+O0qzDIFQCHkINjRAfafMrKkaWIbWbOOtJDVMIqkVP3l9yqEoqZ3av9y2MTFLrAKqDAkZIotgrHGURXdW8zMAD20cu2umzNhwtPQd//NExKQP4Io8AMMGTIDs4ApA821NcNWA2gFigAS/+wWHh04WiBlgaGqv9hOhOGhAxc5X1+31iyBmCIDLiUx7P///mB4ZgcwnBKYucrk5r/V7f8zK5OEwOAi5FyueTjme//NExLcSCI4oAVgYAL/X6H1ftjKEQIO8mxlyJlgcwqEHOE5VLXPVBwIDC0IhAHCd8ywMTrOFlx4CaFPOGmGYSojTWUyAlEZsh49g2KArYb8XieTRHogjmglAzFxom5gV//NExMEhCypAAZqYAA0KpsUjE1ZbdBSlmidlamZ66C3PGjmj3WaIqVWgilQR7OpaSVHZmrd2vZrJLa6KCOvMYCEp20p1sYMFZ6PeIdDKFx4uHh6AXyrRJu5bUzkwjE4a//NExI8geiqEAZuQAAwJLxLSiwFCivOStImBbOm/qwCDBCZ1CiwScypp6AEKABoXptxLC4Jnqol+8ft57fPT//8hYhJWZwbH2UZol3IzaGIcyj0RAUQ9eXUUDxpJD+r///NExGAaGbKAAdxQAPixwEQ8lohCtZNV5Zly6TKkhUaXukUhBwBGEwrnDgOBgwo/wHCxigZTsA3fEWJoyMyWBRELUYqRc1DmILdTkUP3QnSsvyVT60Sg3X//panWXQyI//NExEofKx58AO0avLM6QxDRDWZiZpus6bioWINui6fZXdaPXUfTS1JMpe39Tvt2q9dv67rZBJNSXMVLd0i6kpbf5fsusR8CgVJrMqQ7imYx/1NBsrUr4uYAj8AqKIuR//NExCAY8wKIANUOuUJ8uDkANJQ+MmjxxAfAxGQaoahp6h4+R5/5T/f/9ekUC2pckaE7WqKBKdCJM0FBg30//+1tMw1af/////9ko7Ncf6puwvdwzhg0M0X5L7s02ZAE//NExA8WKa6UAN6KlAdKURgSLXIYBsxo0Xqap24mXLApuuuL176ii/N//+4f///HKL+gE+NFn//+nzgcilHnCYroqgMzXHAIHRUUt/1vxDr///kF1ryd//3cjoIlZPrV//NExAkRibKsAM4ElHpkpQCU7suy3i74ci9v8pkCVYVKr+84CWytejjffqS+3r/1X6fhlJ1Z///1OhMMDOc8rP1KciMxhQx1f/QqR8yYCd0pTjGgGdCxSP6ysoyQWk38//NExBUSebKsAJvElCfo8dET1xO4D+YocTckJD7U36iRQhXRgoIQ3z/Qj9QQAShgooATlRrSoc59WcAQPtAjvouR3//u49ZZKr2ivZsxB9R1bckQdI8N6KRZ8xT9zEYU//NExB4Rwb6wAMNQldUvkOQhE9V7EjA8r9q6+ILPe4skU515W+qhup/2eK4ajjF+Yox/Kncpb7AfFk9IO6I1gDdB03yEC38QR/7fkL/OIv5NR9+20SgyGHztNS5l8uJI//NExCoQweaoAJqWme0h6+UTVO/9yS3+1pp/MGxsTLqZuz/xYKPDf87ShUad8UqOllFiveGSTlzExwHT+YFC7+xf9X8wx2p3EI6/saIQhjpWIEIMhCja2GQcCKvibFr///NExDoSqeqcANHQmfuv+Yvr9B60ShpAuKoFXDBqtTlWYj6+CCZNUWFnSlUCeE/ABCRh4N2QmIDaRag82HiktdEzKX6XzC5NiuDKycj/lRytIUOqG/2O+EgKViMYVK+n//NExEIRuUqEANtKlP2L///RnbtfKZBIaZrsnkHaODWFrQ7K2ZGkTZ5zn4srL8htbPYBRzs/AKQQZMWPpKgBKg68ttUa//q7uHSvuXZ9H/b+/a5SwgicfFMULGTqZzWF//NExE4QaJaAAN4MTFYR1FrODIJ6U0kapsbrswZCrNbusysAo5pSsY3q2GAjSkgqGgZPdcVdX7rdQUPM7ez6nxL4m/nuV1u7iVVasfa5dUxXO0rNfuKP52dz/6ZhF6Ps//NExF8SCNJsAVoQAABcG2Ycv/gBwLIAxgDeP/xcZPkVDEYg//8NWCCgyAoMWWOP//DEgfAJwBsFhYWGMxHn//5MDgD5wy+IBidAxoGMANn///8DJDBY6BoEXIQnhcAk//NExGkiIyp0AZiIAOSIuMLn/////8PXPhicWWO8iArggAOgMiCcAbHxzhkFG6iS3Hh83IJgOKn266/+qFWs8fXyvnf9fyg1Vi7HI3USRd6SmMUomiBxPCM0J1EdSllT//NExDMc+v68AYtAAXfBFj1ib96ZXuhGHiDiKJBwtYCgqJQhHKaHwNySYPYlJWqg9r1E8HnChZQlOF3xP/SqUK0cIIsae8x5Q+6xppUq7Vs6lUPEKQElDAZe0l/dPaFC//NExBIWEeKoAdlAARxef/3HYpdZZdhA8OlfgZK/wa3zoOE9XsQAEBqFzWsU4NjmELFDlqEBQABBa2SLh+Qvu5cV8O988Ij2rRTuQUbC0cjMQF7qx5/6xLCQ9dR3a9/q//NExAwT+eqsAMnWmMENqgx+IBOnlBFb1O/JP6iUc/UHSR72KgDjpn5TD4cquZcTauoUENeW3MIr8/KS//KSzf88RjWZbCq7jzgTvX/////Trf//iOuFetr4NtQCSCGM//NExA8WMgagAMtamEkktWTg9dVIZX5r+i/rJH6x2lBtZqFaEpdpifC4kobImyJIhuIoJpmSxJjR/H5D5U77TpQSUtR0T0lDVlJMalOlqMjdlbf///+l/n71NlhERl7///NExAkSKeqYANKamRscijqWwZiBU2gUY3/E1vl/q7/Nb5UlW3x6qUvHYBMh4l4xUsTYrPIoJKMiRPP1JfmRs/nSVfysYU1qzqG+9GqY3e7Ov2YdRA9+lGCUrTzoZZAm//NExBMQUTqEAN0KcHjHnQ0cVNtSiULXxEetMLf7tb9KyM9LRYadlGgOCng4D7Mt+zUeGuET1gc932pqlEXu00ZZkYIlARYoTPp2r3doAEIWQxKmVawkANbOtShPyzQq//NExCQSId6AAONKmBodfYmOq+Y1eat8N9HM12SHCq11T//v7L6svqKJlH////6e7oqV27cMMrBAcMKXYxCFFjtfXRIo2ZGAJJp/Cvt4y0UH29f+EZ5r8+BHRLrFV7pp//NExC4SUQKAAOaEcJHaZCBxkxK6gkuVp/3bWDkVx3ZnqLfT/v3P+mqUxtp7KImYJ4cdOTYWTyt4FrBKKUIzcwzEUT01FkwUvf3NsEcwCJCBizOsACMIIDARAgRD6ydC//NExDcSkNKEANMGcM5Jqb91Pudt/Ofp3elmSFPssVqqg2tqwZDrLYdex9/ZLSK2/8P9vKlYbTMSCf7FhSnn+Wf2+1ldf978n7k/nfJo3kU+Rt//t0Iwc872RlO/yKc5//NExD8SqwakAFjEuQIxGDi0Y5COgRh4fT///5f//+bNSE+4hF/Or/bzzP9/+1tVz6Z9V/T6LZeyG81Hu1VZUKOeTMPNZTTmHRxWGiOTUuKxgweG5h5phzjoSDUeJtoP//NExEcRaxawAAhOuf//+9//+tE2T5S///19vr9P0+bZmNo8+i3bmuuv9fscjnOqOpRjaFyJxZyKmkUJHHyA3QTjxUoJhAKicsYIo4D8Bw3PI/1f//8/NfX/6LzyXpTP//NExFQReyKsAAhOvFtp6f0WiGf1Z2qW6fdNURXJTK85HMR2vU4xhwxjqNHD7yiwsJ2GlEYMOFYdFRAqAUPKC////vyIf/8l8q42Zfzorfsi3ponZtF3b/o+jrd3qnvU//NExGEP2x6oAABKvPlRrK6r2SzTojzO8ccdM51EEI5htilEYoUOnKYEYOCQiHSEKkD/n/83m9t//lsq6yDRcb/vJkVm6/253/Y/nud3792ZGJvtO+e7+S7nWTF1KJEY//NExHQRExakAAhKuVMyqZyMZxhRUXGEnZCHCAYwgQOm3/uHYBcZgJkomPX3uj2rIBnIxZflc0WPdzmqL/9JD/Vf///Kz3RNe6/+323/3qz6GqhUKAsxno71MdHYyC2M//NExIIQwx6oAAhKvGAgYQOyuy2m/cegYcknBENwBwJkMsonGE9CLcfK/w1k7tuudWyo9WzquJYT2ls4qrjQe4vVsgtzJK11Ei5kLHWLj0ZWkcAOePp4mJ//l/29//66//NExJIRAwqwAFhEueuKsfRVK/kG9H//0/nVLHRYePr7iMAA0DQimRE2JgPzAz8DsB3PZaY5Za8wLh1voHTXUggcOmrU3JgjR/Fwpni4KwuOgxEMUeTw9pRxtTeWylNH//NExKEYIfqgANPQmPFfHPcz/xPMwksNxw6ZMk5X///UlUqnKbWcNACBqSmEBjYcDEATddmPkS7XcyP9LPGLsnquNDxEhJkKOaBl99vbhlSx0cSpjXwUlYeHzF0mTKoP//NExJMUOe60AJSQmAw8utX//7qVaGst7kKAPXj6JAFB4qA4eqyEGtnOkuqdUW7sdNzMtpalw6JRyABouHTZg5O1C4SNFlpH0tjTXPe537/PAIAU1t6V3z9RAmbhEp1M//NExJURUV68AMDSlLN7lcv9VrgPGFzzjtUR9Ufqb3b/76ochQwqYGhkTDUShHHBHHhJCg2F42IjrFDZqHTfWtfVltcxihVXJfx1BaA4aCyp0xUOZCGZYGzS1DDTavkf//NExKIRUV64AMFMlbBVWKzHKU8mM///+/nWLyL1D0HwriKFQVjtguEx6ZxNTNLV3fevPUbX1xe2tIdFC3cViMCScQFm4mrmWCIs4NzdYTyjIYgGkEZo03rlvu7ltdTe//NExK8RIcq0AMHOlf//8452Q4dMGxUSTRUAMA4iUJCKJLFiZFv7PrLAXOxKAKRwGpQOSoEjqAQkNF1OUnyFAYgKpIEaLOB0LLcApdJFpxOhCzo8qsFQVBYRXvoFGoQl//NExL0SEc6gANDQlTllZ311yTbf9e/6On11LrHXCp2sujAUAt2au16V1wNElqqRSo7O+IZ8XbVVCs/U0PIUZLeuWuwh42rGNjcq4FOMfNxOh4FWvLvTfbUcGij/l5b9//NExMcQOTqEAMrOcP1W93Wmv+L//aXX386THzuKBdA+if0dfWG4vneidukwkla92nwxp7v1qSk2QnSZ5hgRBCJu7zMvPn923WbUbPsBAASIoWai3STbnHMc8gKr4dx///NExNkQGE5EAMvGJH7GVRu5IqsRhlC3kXLtZIWIcZB6jeUL6IdaHMDETd/d8wmMzjmC5CIDuJ8LcltZZFIBgAWASgAbBC4NknB8kILUPwzBUN1IF8c0gxBjYcBHEXIA//NExOsVWPYoAMGGcZl9N30zcvOpjYoHJff/fQz60D5MFQu/frW2p1KPJsgyKkTT/9b2qZaFmNTREm0DAqpoE4v/0P9WjWZMmkmb6ZuSBFCQWXzY2J0wL5HjjlEMx34o//NExOgUwOIkAVgwADEhcKW+uaobW+93d3VaXWw+2pq9xOu+l/lzdHFzzzuWgprUXzbNyFy/MW3Idns2ctXord8wV+a2ha+Ze3n6333pzK/TIptT+fjx+mN2fiWRwL/6//NExOgj8yqMAY+IALPsXdpC6YPmEZ5cwQmzxlNeyw4Xvr1UT5wqNrFw4D06OS+O5QLA5CPZ04JY9QdF9UH/2l/5R/8/IYUMnCGFpyu9f/SykdEulf/9ulEur0ZaXdTN//NExKsh2yaQAcNgAM9aXMZWSrJHKczuNdxyKLiAe1DqmjVYaYWEhMo4VdHM0BgFAQCh0YgkLjp1Cf///ry5H/O0YpgFKKufRJx5miK7zWtun//rVzoydch+nuY2VGMq//NExHYToxagAAhKudbXcpxNo5BM4HFGGBZlcXD4ohHIdEHMHyi4FFgMKgILB8OhEFA4IKCocIoA//r/3+vP/fIsFFr///2al0//9vs1GK1lOrpIQp8kyVLV7N1Kj3QX//NExHoUWx6cABBKvDXMYXVzi7swWImHCZWZnGsSUoRGgDERIDiweMUCAMKkX/7/+WHaevLM5llPUtyL/+3Vm9P7/MqW/u6JMt2W9FdkvUjm3JqY4kj1EjGMyMyOlxoj//NExHsSAyKgAAhKvBZ1QrOiuoeMSRg6OEHAwKEQ+cOCwqoy/8516ogcSPy87GYiUWeUA+ZkXr/RdW///7WL1V5Sq+5KZ9bJ7VImpT7IMV2QrjJ0NEx4nMxjDHmMJjyK//NExIYSExqcAAhKvSYiKqHhUJmDyiTi89Vzf9GBurJ0R1VF0ut/tTrNpro1vo/9tkZjf3q3v/1XdGLbvM9SsiaNbaZ+q3rU7M5yoishrIYqOWjhSuwZ1MGMZgolCMOq//NExJASSxaYAAhKuR6Y1r/wx6oMH8fTFRi/EwDnBVjI2X5IjvNVJLMvHeLcSIXoThMcJiSpz4lo9RPTpaOxVGi37saBUhPUzLVSdX8rTHsXh/Ny4kIM6K9dL/xuNB4j//NExJkRSxKUAUIQADk4exJEkMYkRhxuSSSdHUpIxX/+B6kEvDhHqbBVQvwcsPA7gog7hwdfpE0xPF5IKgpDQgiefs7XLYiUdLhs61H7ZiaK1sbpBg4kMDAQoDljih+C//NExKYgsuJUAY9oAaHVKKqaFULBJ6jYllXZEqAn+b6kyxoi3sdvYInsOrbFHyLdjeRRCBEPE1RiqyIhMITV0DAYeGICHXYoZxvxQrxpJNFl/8osvI3pUWqn9d/nfeb8//NExHYSOM4EAcsYALH+seVO8U+CN5F/FF7busP+Wb+P/v8N+zpxR2UyCUVD2AAsgLEC3/+VU+qSrsqiqp2qSrhqoqqRKpKulVFVTZ3K/////+3+lpqWWK0RFktNUyxW//NExIASaFnwAHpGJYv///////Kqdqkq6VUVVNVMQU1FMy4xMDBVVVVVVVVVVVVVVVVVVVVVVVVVVVVVVVVVVVVVVVVVVVVVVVVVVVVVVVVVVVVVVVVVVVVVTEFNRTMu//NExIkRSClkAGGEATEwMFVVVVVVVVVVVVVVVVVVVVVVVVVVVVVVVVVVVVVVVVVVVVVVVVVVVVVVVVVVVVVVVVVVVVVVVVVVVVVVVVVVVVVVVVVVVVVVVVVVTEFNRTMu//NExJYAAANIAAAAADEwMFVVVVVVVVVVVVVVVVVVVVVVVVVVVVVVVVVVVVVVVVVVVVVVVVVVVVVVVVVVVVVVVVVVVVVVVVVVVVVVVVVVVVVVVVVVVVVVVVVVTEFNRTMu//NExKwAAANIAAAAADEwMFVVVVVVVVVVVVVVVVVVVVVVVVVVVVVVVVVVVVVVVVVVVVVVVVVVVVVVVVVVVVVVVVVVVVVVVVVVVVVVVVVVVVVVVVVVVVVVVVVVTEFNRTMu//NExKwAAANIAAAAADEwMFVVVVVVVVVVVVVVVVVVVVVVVVVVVVVVVVVVVVVVVVVVVVVVVVVVVVVVVVVVVVVVVVVVVVVVVVVVVVVVVVVVVVVVVVVVVVVVVVVVTEFNRTMu//NExKwAAANIAAAAADEwMFVVVVVVVVVVVVVVVVVVVVVVVVVVVVVVVVVVVVVVVVVVVVVVVVVVVVVVVVVVVVVVVVVVVVVVVVVVVVVVVVVVVVVVVVVVVVVVVVVVTEFNRTMu//NExKwAAANIAAAAADEwMFVVVVVVVVVVVVVVVVVVVVVVVVVVVVVVVVVVVVVVVVVVVVVVVVVVVVVVVVVVVVVVVVVVVVVVVVVVVVVVVVVVVVVVVVVVVVVVVVVVVVVVVVVV//NExKwAAANIAAAAAFVVVVVVVVVVVVVVVVVVVVVVVVVVVVVVVVVVVVVVVVVVVVVVVVVVVVVVVVVVVVVVVVVVVVVVVVVVVVVVVVVVVVVVVVVVVVVVVVVVVVVVVVVVVVVV//NExKwAAANIAAAAAFVVVVVVVVVVVVVVVVVVVVVVVVVVVVVVVVVVVVVVVVVVVVVVVVVVVVVVVVVVVVVVVVVVVVVVVVVVVVVVVVVVVVVVVVVVVVVVVVVVVVVVVVVVVVVV\" type=\"audio/mpeg\" />\n",
       "                    Your browser does not support the audio element.\n",
       "                </audio>\n",
       "              "
      ],
      "text/plain": [
       "<IPython.lib.display.Audio object>"
      ]
     },
     "metadata": {},
     "output_type": "display_data"
    },
    {
     "name": "stdout",
     "output_type": "stream",
     "text": [
      "Six\n"
     ]
    },
    {
     "data": {
      "text/html": [
       "\n",
       "                <audio  controls=\"controls\" >\n",
       "                    <source src=\"data:audio/mpeg;base64,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\" type=\"audio/mpeg\" />\n",
       "                    Your browser does not support the audio element.\n",
       "                </audio>\n",
       "              "
      ],
      "text/plain": [
       "<IPython.lib.display.Audio object>"
      ]
     },
     "metadata": {},
     "output_type": "display_data"
    },
    {
     "name": "stdout",
     "output_type": "stream",
     "text": [
      "Six\n"
     ]
    },
    {
     "data": {
      "text/html": [
       "\n",
       "                <audio  controls=\"controls\" >\n",
       "                    <source src=\"data:audio/mpeg;base64,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\" type=\"audio/mpeg\" />\n",
       "                    Your browser does not support the audio element.\n",
       "                </audio>\n",
       "              "
      ],
      "text/plain": [
       "<IPython.lib.display.Audio object>"
      ]
     },
     "metadata": {},
     "output_type": "display_data"
    },
    {
     "name": "stdout",
     "output_type": "stream",
     "text": [
      "Seven\n"
     ]
    },
    {
     "data": {
      "text/html": [
       "\n",
       "                <audio  controls=\"controls\" >\n",
       "                    <source src=\"data:audio/mpeg;base64,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\" type=\"audio/mpeg\" />\n",
       "                    Your browser does not support the audio element.\n",
       "                </audio>\n",
       "              "
      ],
      "text/plain": [
       "<IPython.lib.display.Audio object>"
      ]
     },
     "metadata": {},
     "output_type": "display_data"
    },
    {
     "name": "stdout",
     "output_type": "stream",
     "text": [
      "Seven\n"
     ]
    },
    {
     "data": {
      "text/html": [
       "\n",
       "                <audio  controls=\"controls\" >\n",
       "                    <source src=\"data:audio/mpeg;base64,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\" type=\"audio/mpeg\" />\n",
       "                    Your browser does not support the audio element.\n",
       "                </audio>\n",
       "              "
      ],
      "text/plain": [
       "<IPython.lib.display.Audio object>"
      ]
     },
     "metadata": {},
     "output_type": "display_data"
    },
    {
     "name": "stdout",
     "output_type": "stream",
     "text": [
      "Eight\n"
     ]
    },
    {
     "data": {
      "text/html": [
       "\n",
       "                <audio  controls=\"controls\" >\n",
       "                    <source src=\"data:audio/mpeg;base64,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\" type=\"audio/mpeg\" />\n",
       "                    Your browser does not support the audio element.\n",
       "                </audio>\n",
       "              "
      ],
      "text/plain": [
       "<IPython.lib.display.Audio object>"
      ]
     },
     "metadata": {},
     "output_type": "display_data"
    },
    {
     "name": "stdout",
     "output_type": "stream",
     "text": [
      "Eight\n"
     ]
    },
    {
     "data": {
      "text/html": [
       "\n",
       "                <audio  controls=\"controls\" >\n",
       "                    <source src=\"data:audio/mpeg;base64,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\" type=\"audio/mpeg\" />\n",
       "                    Your browser does not support the audio element.\n",
       "                </audio>\n",
       "              "
      ],
      "text/plain": [
       "<IPython.lib.display.Audio object>"
      ]
     },
     "metadata": {},
     "output_type": "display_data"
    },
    {
     "name": "stdout",
     "output_type": "stream",
     "text": [
      "Nine\n"
     ]
    },
    {
     "data": {
      "text/html": [
       "\n",
       "                <audio  controls=\"controls\" >\n",
       "                    <source src=\"data:audio/mpeg;base64,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\" type=\"audio/mpeg\" />\n",
       "                    Your browser does not support the audio element.\n",
       "                </audio>\n",
       "              "
      ],
      "text/plain": [
       "<IPython.lib.display.Audio object>"
      ]
     },
     "metadata": {},
     "output_type": "display_data"
    },
    {
     "name": "stdout",
     "output_type": "stream",
     "text": [
      "Zero\n"
     ]
    },
    {
     "data": {
      "text/html": [
       "\n",
       "                <audio  controls=\"controls\" >\n",
       "                    <source src=\"data:audio/mpeg;base64,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\" type=\"audio/mpeg\" />\n",
       "                    Your browser does not support the audio element.\n",
       "                </audio>\n",
       "              "
      ],
      "text/plain": [
       "<IPython.lib.display.Audio object>"
      ]
     },
     "metadata": {},
     "output_type": "display_data"
    }
   ],
   "source": [
    "l=['Zero','One','Two','Three','Four','Five','Six','Seven','Eight','Nine']\n",
    "language = 'en'\n",
    "while True: \n",
    "    ret, frame = cap.read()\n",
    "    image_np = np.array(frame)\n",
    "    \n",
    "    input_tensor = tf.convert_to_tensor(np.expand_dims(image_np, 0), dtype=tf.float32)\n",
    "    detections = detect_fn(input_tensor)\n",
    "    \n",
    "    num_detections = int(detections.pop('num_detections'))\n",
    "    \n",
    "    detections = {key: value[0, :num_detections].numpy()\n",
    "                  for key, value in detections.items()}\n",
    "    detections['num_detections'] = num_detections\n",
    "    \n",
    "#     print(category_index)\n",
    "    # detection_classes should be ints.\n",
    "    detections['detection_classes'] = detections['detection_classes'].astype(np.int64)\n",
    "#     print(detections['detection_classes'][0],detections['detection_scores'][0]*100)\n",
    "    \n",
    "    label_id_offset = 1\n",
    "    image_np_with_detections = image_np.copy()\n",
    "\n",
    "    viz_utils.visualize_boxes_and_labels_on_image_array(\n",
    "                image_np_with_detections,\n",
    "                detections['detection_boxes'],\n",
    "                detections['detection_classes']+label_id_offset,\n",
    "                detections['detection_scores'],\n",
    "                category_index,\n",
    "                use_normalized_coordinates=True,\n",
    "                max_boxes_to_draw=5,\n",
    "                min_score_thresh=.5,\n",
    "                agnostic_mode=False)\n",
    "\n",
    "    cv2.imshow('object detection',  cv2.resize(image_np_with_detections, (800, 600)))\n",
    "    if detections['detection_scores'][0]*100 >65:\n",
    "        print(l[detections['detection_classes'][0]])\n",
    "        s='you are pointing '+ l[detections['detection_classes'][0]]\n",
    "        sign = gTTS(text=s, lang=language, slow=False)\n",
    "        try:\n",
    "            sign.save(WORKSPACE_PATH+\"/audio/\"+l[detections['detection_classes'][0]]+\".mp3\")\n",
    "            audio = Audio(filename=WORKSPACE_PATH+\"/audio/\"+l[detections['detection_classes'][0]]+\".mp3\")\n",
    "            display(audio)\n",
    "        except :\n",
    "            audio = Audio(filename=WORKSPACE_PATH+\"/audio/\"+l[detections['detection_classes'][0]]+\".mp3\")\n",
    "            display(audio)\n",
    "            \n",
    "    \n",
    "    key = cv2.waitKey(2000)\n",
    "    if key == 32:\n",
    "        cap.release()\n",
    "        cv2.destroyAllWindows()\n",
    "        break"
   ]
  },
  {
   "cell_type": "code",
   "execution_count": 25,
   "metadata": {
    "collapsed": true
   },
   "outputs": [
    {
     "data": {
      "text/plain": [
       "{'detection_boxes': <tf.Tensor: shape=(1, 100, 4), dtype=float32, numpy=\n",
       " array([[[3.75721931e-01, 5.78870893e-01, 1.00000000e+00, 1.00000000e+00],\n",
       "         [8.44301581e-02, 6.55111730e-01, 9.81123269e-01, 1.00000000e+00],\n",
       "         [0.00000000e+00, 7.59854674e-01, 6.01536453e-01, 1.00000000e+00],\n",
       "         [6.64170086e-01, 6.15211606e-01, 8.74278367e-01, 7.12628365e-01],\n",
       "         [0.00000000e+00, 8.70398819e-01, 2.04871297e-01, 1.00000000e+00],\n",
       "         [4.48536932e-01, 6.00987434e-01, 9.74544823e-01, 9.94317412e-01],\n",
       "         [5.33840001e-01, 6.07960880e-01, 9.96722281e-01, 9.66649711e-01],\n",
       "         [0.00000000e+00, 6.95667624e-01, 6.31218255e-01, 1.00000000e+00],\n",
       "         [0.00000000e+00, 6.08224630e-01, 6.54811621e-01, 1.00000000e+00],\n",
       "         [6.07760787e-01, 6.78766251e-01, 8.18607569e-01, 7.85723567e-01],\n",
       "         [6.17171228e-01, 6.53947890e-01, 8.32866967e-01, 7.65177906e-01],\n",
       "         [2.34446168e-01, 5.86844027e-01, 1.00000000e+00, 1.00000000e+00],\n",
       "         [0.00000000e+00, 6.68013215e-01, 6.87601447e-01, 1.00000000e+00],\n",
       "         [0.00000000e+00, 4.90878314e-01, 1.00000000e+00, 1.00000000e+00],\n",
       "         [3.75721931e-01, 5.78870893e-01, 1.00000000e+00, 1.00000000e+00],\n",
       "         [0.00000000e+00, 0.00000000e+00, 3.03760231e-01, 1.26983523e-01],\n",
       "         [4.75603700e-01, 0.00000000e+00, 9.74846244e-01, 1.15577102e-01],\n",
       "         [6.37921453e-01, 6.32984996e-01, 8.63086104e-01, 7.34136224e-01],\n",
       "         [0.00000000e+00, 6.13360822e-01, 2.97135651e-01, 7.64426291e-01],\n",
       "         [0.00000000e+00, 7.08855331e-01, 6.07662499e-01, 1.00000000e+00],\n",
       "         [0.00000000e+00, 0.00000000e+00, 4.38083857e-01, 1.11924320e-01],\n",
       "         [1.08401030e-02, 6.68212175e-01, 2.40973040e-01, 7.54692435e-01],\n",
       "         [0.00000000e+00, 5.65816283e-01, 2.62156308e-01, 7.08693743e-01],\n",
       "         [4.04133320e-01, 6.61023378e-01, 7.25811005e-01, 8.06819558e-01],\n",
       "         [4.78270710e-01, 6.24982119e-01, 9.80246365e-01, 8.58663797e-01],\n",
       "         [3.69675457e-04, 5.15050769e-01, 2.40507394e-01, 6.52763724e-01],\n",
       "         [7.53538460e-02, 6.55186176e-01, 4.21840310e-01, 1.00000000e+00],\n",
       "         [8.44301581e-02, 6.55111730e-01, 9.81123269e-01, 1.00000000e+00],\n",
       "         [8.41887772e-01, 2.38067538e-01, 1.00000000e+00, 4.05211240e-01],\n",
       "         [9.05232877e-03, 6.46212041e-01, 2.41741776e-01, 7.33153164e-01],\n",
       "         [8.33824277e-03, 4.12219048e-01, 2.31495798e-01, 5.49788892e-01],\n",
       "         [5.10393828e-03, 4.63135004e-01, 2.32160002e-01, 6.00353718e-01],\n",
       "         [0.00000000e+00, 7.17816114e-01, 6.10856295e-01, 1.00000000e+00],\n",
       "         [9.76455957e-03, 3.65811348e-01, 2.33154356e-01, 5.02086997e-01],\n",
       "         [8.44301581e-02, 6.55111730e-01, 9.81123269e-01, 1.00000000e+00],\n",
       "         [0.00000000e+00, 8.91417623e-01, 1.97110474e-01, 1.00000000e+00],\n",
       "         [4.26616967e-02, 0.00000000e+00, 2.48949736e-01, 6.14183322e-02],\n",
       "         [0.00000000e+00, 0.00000000e+00, 4.38083857e-01, 1.11924320e-01],\n",
       "         [0.00000000e+00, 0.00000000e+00, 1.56082079e-01, 6.89158142e-02],\n",
       "         [0.00000000e+00, 4.90878314e-01, 1.00000000e+00, 1.00000000e+00],\n",
       "         [7.53538460e-02, 6.55186176e-01, 4.21840310e-01, 1.00000000e+00],\n",
       "         [0.00000000e+00, 5.12574911e-01, 1.00000000e+00, 1.00000000e+00],\n",
       "         [6.41713619e-01, 5.73184788e-01, 9.93232489e-01, 1.00000000e+00],\n",
       "         [0.00000000e+00, 4.41406220e-01, 1.00000000e+00, 1.00000000e+00],\n",
       "         [2.46187374e-02, 2.32129723e-01, 1.86429441e-01, 2.93417066e-01],\n",
       "         [1.21030435e-02, 6.93073630e-01, 2.42845923e-01, 7.80373454e-01],\n",
       "         [8.36390555e-01, 2.84687132e-01, 1.00000000e+00, 4.56316143e-01],\n",
       "         [0.00000000e+00, 8.70398819e-01, 2.04871297e-01, 1.00000000e+00],\n",
       "         [7.66896456e-03, 3.19712132e-01, 2.36417085e-01, 4.52253729e-01],\n",
       "         [2.51793489e-02, 9.01903629e-01, 2.67701119e-01, 1.00000000e+00],\n",
       "         [3.57449949e-02, 0.00000000e+00, 2.05708832e-01, 1.58206969e-01],\n",
       "         [7.53538460e-02, 6.55186176e-01, 4.21840310e-01, 1.00000000e+00],\n",
       "         [0.00000000e+00, 0.00000000e+00, 2.22706527e-01, 1.12103224e-01],\n",
       "         [5.85556388e-01, 5.56805432e-01, 9.25964475e-01, 1.00000000e+00],\n",
       "         [8.41514826e-01, 1.92136616e-01, 1.00000000e+00, 3.53497893e-01],\n",
       "         [3.93433303e-01, 7.37346113e-01, 6.90075517e-01, 8.36971343e-01],\n",
       "         [9.25817370e-01, 2.51528263e-01, 9.93070245e-01, 3.76893103e-01],\n",
       "         [9.24289703e-01, 1.79449692e-01, 9.91968632e-01, 2.94418573e-01],\n",
       "         [1.03978962e-02, 8.10107827e-01, 2.90450752e-01, 9.21793699e-01],\n",
       "         [1.31627545e-02, 8.70157182e-01, 1.46482080e-01, 1.00000000e+00],\n",
       "         [0.00000000e+00, 8.53585362e-01, 2.50767052e-01, 9.80693936e-01],\n",
       "         [3.40072095e-01, 7.38951504e-01, 6.11283839e-01, 8.31530750e-01],\n",
       "         [2.32330710e-03, 2.65672892e-01, 2.44865209e-01, 3.92756194e-01],\n",
       "         [6.57926500e-02, 4.12875682e-01, 9.78399277e-01, 1.00000000e+00],\n",
       "         [0.00000000e+00, 4.90878314e-01, 1.00000000e+00, 1.00000000e+00],\n",
       "         [9.41787541e-01, 4.68514919e-01, 1.00000000e+00, 5.49783468e-01],\n",
       "         [0.00000000e+00, 4.80752617e-01, 1.00000000e+00, 1.00000000e+00],\n",
       "         [6.09009266e-02, 0.00000000e+00, 5.84826052e-01, 1.06826760e-01],\n",
       "         [7.66896456e-03, 3.19712132e-01, 2.36417085e-01, 4.52253729e-01],\n",
       "         [1.51183009e-01, 2.52580553e-01, 7.94004023e-01, 1.00000000e+00],\n",
       "         [0.00000000e+00, 1.54757500e-03, 1.00000000e+00, 1.00000000e+00],\n",
       "         [9.17249262e-01, 4.31012005e-01, 1.00000000e+00, 5.81250310e-01],\n",
       "         [0.00000000e+00, 0.00000000e+00, 1.60484314e-01, 1.52345389e-01],\n",
       "         [8.73058200e-01, 1.92376882e-01, 1.00000000e+00, 3.50881010e-01],\n",
       "         [7.10859895e-03, 6.23709798e-01, 2.39342794e-01, 7.10319638e-01],\n",
       "         [8.74127388e-01, 2.40095377e-01, 1.00000000e+00, 4.00836051e-01],\n",
       "         [8.74127388e-01, 2.40095377e-01, 1.00000000e+00, 4.00836051e-01],\n",
       "         [2.52154976e-01, 4.33328301e-01, 4.23370391e-01, 4.94826108e-01],\n",
       "         [0.00000000e+00, 6.13360822e-01, 2.97135651e-01, 7.64426291e-01],\n",
       "         [3.75721931e-01, 5.78870893e-01, 1.00000000e+00, 1.00000000e+00],\n",
       "         [8.73182952e-01, 2.88493335e-01, 1.00000000e+00, 4.51423168e-01],\n",
       "         [1.93170071e-01, 0.00000000e+00, 1.00000000e+00, 1.82534441e-01],\n",
       "         [0.00000000e+00, 5.59342265e-01, 1.00000000e+00, 1.00000000e+00],\n",
       "         [8.12291086e-01, 0.00000000e+00, 1.00000000e+00, 6.06257878e-02],\n",
       "         [2.25821525e-01, 4.58789349e-01, 3.97766501e-01, 5.19616902e-01],\n",
       "         [8.41514826e-01, 1.92136616e-01, 1.00000000e+00, 3.53497893e-01],\n",
       "         [5.10953367e-03, 2.09055245e-01, 1.64331302e-01, 2.71556824e-01],\n",
       "         [5.33840001e-01, 6.07960880e-01, 9.96722281e-01, 9.66649711e-01],\n",
       "         [6.57926500e-02, 4.12875682e-01, 9.78399277e-01, 1.00000000e+00],\n",
       "         [0.00000000e+00, 6.51875973e-01, 3.31408590e-01, 8.17527771e-01],\n",
       "         [0.00000000e+00, 4.80752617e-01, 1.00000000e+00, 1.00000000e+00],\n",
       "         [9.22474623e-01, 1.29644811e-01, 9.92518663e-01, 2.43026942e-01],\n",
       "         [2.52947539e-01, 4.08271730e-01, 4.24091548e-01, 4.70770717e-01],\n",
       "         [8.71786952e-01, 3.39482486e-01, 1.00000000e+00, 5.00475764e-01],\n",
       "         [0.00000000e+00, 4.90878314e-01, 1.00000000e+00, 1.00000000e+00],\n",
       "         [8.73058200e-01, 1.92376882e-01, 1.00000000e+00, 3.50881010e-01],\n",
       "         [0.00000000e+00, 2.14390814e-01, 2.61600077e-01, 3.38371158e-01],\n",
       "         [9.41692472e-01, 4.93354291e-01, 1.00000000e+00, 5.75051188e-01],\n",
       "         [6.54387116e-01, 5.99381447e-01, 1.00000000e+00, 9.34351921e-01],\n",
       "         [0.00000000e+00, 5.65816283e-01, 2.62156308e-01, 7.08693743e-01]]],\n",
       "       dtype=float32)>,\n",
       " 'detection_scores': <tf.Tensor: shape=(1, 100), dtype=float32, numpy=\n",
       " array([[0.06951609, 0.04369774, 0.04018769, 0.03708103, 0.03670004,\n",
       "         0.03187737, 0.03081852, 0.02805558, 0.02758318, 0.02691668,\n",
       "         0.02585503, 0.02561358, 0.02552837, 0.02508202, 0.02472594,\n",
       "         0.02471668, 0.02427876, 0.02389094, 0.02373454, 0.0233188 ,\n",
       "         0.0231438 , 0.0222646 , 0.0221844 , 0.02168497, 0.02099293,\n",
       "         0.02082145, 0.02040824, 0.02035689, 0.02027601, 0.02021936,\n",
       "         0.01997995, 0.01997802, 0.01927304, 0.01911792, 0.01909617,\n",
       "         0.01903519, 0.01873517, 0.01869282, 0.01863739, 0.0184539 ,\n",
       "         0.01833147, 0.01822573, 0.01816669, 0.01779309, 0.01777354,\n",
       "         0.01776499, 0.01771781, 0.01760063, 0.01755908, 0.01752931,\n",
       "         0.0174906 , 0.01745895, 0.01722702, 0.0170179 , 0.01698643,\n",
       "         0.01677582, 0.01631153, 0.01615503, 0.01602137, 0.01586118,\n",
       "         0.01570532, 0.01549524, 0.0152972 , 0.01520565, 0.01506722,\n",
       "         0.01474017, 0.01472306, 0.01471609, 0.01468027, 0.01465765,\n",
       "         0.0144926 , 0.01447055, 0.0144434 , 0.01441655, 0.01425159,\n",
       "         0.01424864, 0.01424697, 0.01416028, 0.01408517, 0.01405168,\n",
       "         0.01399606, 0.01397091, 0.01391482, 0.01387578, 0.01381758,\n",
       "         0.01370656, 0.01369289, 0.01369017, 0.01369002, 0.01349849,\n",
       "         0.01342165, 0.01341987, 0.01340154, 0.01334044, 0.01327866,\n",
       "         0.0132598 , 0.01322377, 0.01314956, 0.01309645, 0.01305464]],\n",
       "       dtype=float32)>,\n",
       " 'detection_classes': <tf.Tensor: shape=(1, 100), dtype=float32, numpy=\n",
       " array([[6., 6., 3., 6., 3., 1., 0., 1., 3., 6., 6., 1., 0., 0., 0., 3.,\n",
       "         6., 6., 5., 6., 3., 3., 5., 1., 7., 5., 3., 3., 9., 3., 5., 5.,\n",
       "         7., 5., 7., 6., 6., 2., 6., 3., 8., 1., 9., 6., 3., 3., 9., 8.,\n",
       "         5., 3., 8., 7., 1., 3., 9., 1., 7., 7., 3., 3., 3., 1., 4., 1.,\n",
       "         2., 0., 6., 6., 4., 8., 1., 5., 8., 8., 3., 8., 9., 3., 4., 7.,\n",
       "         0., 6., 7., 6., 3., 8., 3., 6., 7., 5., 7., 7., 3., 0., 1., 9.,\n",
       "         4., 0., 0., 4.]], dtype=float32)>,\n",
       " 'num_detections': <tf.Tensor: shape=(1,), dtype=float32, numpy=array([100.], dtype=float32)>,\n",
       " 'raw_detection_boxes': <tf.Tensor: shape=(1, 12804, 4), dtype=float32, numpy=\n",
       " array([[[-3.59594338e-02, -2.72248108e-02,  8.80099535e-02,\n",
       "           5.95361814e-02],\n",
       "         [-5.17100915e-02, -3.98273319e-02,  1.05705895e-01,\n",
       "           7.16789290e-02],\n",
       "         [-2.04123352e-02, -4.98481356e-02,  5.60135990e-02,\n",
       "           8.01020414e-02],\n",
       "         ...,\n",
       "         [-3.30677509e-01, -6.56379580e-01,  1.52441287e+00,\n",
       "           2.15153360e+00],\n",
       "         [-5.09390831e-01,  1.98250234e-01,  1.69374323e+00,\n",
       "           1.46487522e+00],\n",
       "         [-8.41442049e-01,  3.95536423e-04,  2.15377331e+00,\n",
       "           1.67503619e+00]]], dtype=float32)>,\n",
       " 'raw_detection_scores': <tf.Tensor: shape=(1, 12804, 11), dtype=float32, numpy=\n",
       " array([[[0.0047707 , 0.00202683, 0.00627625, ..., 0.00216112,\n",
       "          0.00173643, 0.00258821],\n",
       "         [0.00457415, 0.00385407, 0.00547171, ..., 0.00394773,\n",
       "          0.0014089 , 0.0019094 ],\n",
       "         [0.00282273, 0.00304148, 0.0025177 , ..., 0.00423151,\n",
       "          0.00432473, 0.0032742 ],\n",
       "         ...,\n",
       "         [0.00678584, 0.00468239, 0.00331476, ..., 0.00371549,\n",
       "          0.00313672, 0.00648206],\n",
       "         [0.00527138, 0.01212773, 0.00424516, ..., 0.00243217,\n",
       "          0.00567272, 0.00745526],\n",
       "         [0.00480744, 0.0033842 , 0.00394642, ..., 0.00108403,\n",
       "          0.00273716, 0.00691047]]], dtype=float32)>,\n",
       " 'detection_multiclass_scores': <tf.Tensor: shape=(1, 100, 11), dtype=float32, numpy=\n",
       " array([[[0.00248659, 0.02472594, 0.03166497, ..., 0.01405168,\n",
       "          0.00307238, 0.00417694],\n",
       "         [0.00253329, 0.00760305, 0.02446744, ..., 0.01909617,\n",
       "          0.0030238 , 0.00117248],\n",
       "         [0.00240597, 0.00180197, 0.00304458, ..., 0.00514486,\n",
       "          0.00283384, 0.00178304],\n",
       "         ...,\n",
       "         [0.00148523, 0.01314956, 0.00656816, ..., 0.00266117,\n",
       "          0.00529093, 0.00776723],\n",
       "         [0.0015671 , 0.01309645, 0.00683919, ..., 0.00063956,\n",
       "          0.0033347 , 0.00399527],\n",
       "         [0.00239661, 0.00519186, 0.00185168, ..., 0.00114226,\n",
       "          0.00365913, 0.00416544]]], dtype=float32)>,\n",
       " 'detection_anchor_indices': <tf.Tensor: shape=(1, 100), dtype=int32, numpy=\n",
       " array([[12463, 12353, 10187,  7601,   703, 12462, 12522, 12169, 12163,\n",
       "          7139,  7133, 12407, 12053, 12629, 12463,  9850, 11405,  7367,\n",
       "          9918, 12175, 10085,  1133,  9912, 10888, 11369,  9906, 12170,\n",
       "         12353, 11796,  1127,  9894,  9900, 12172,  9888, 12353,   709,\n",
       "          1445, 10085,   485, 12629, 12170, 12719, 12524, 12682,  1024,\n",
       "          1139, 11802,   703,  9882,  1673,  9842, 12170,  9720, 12464,\n",
       "         11790,  5231,  9194,  9176,  1169,   711,   941,  4511,  9876,\n",
       "         12678, 12629,  9480, 12659, 10445,  9882, 12680, 12703,  9243,\n",
       "          9722, 11910,  1121, 11916, 11916,  3232,  9918, 12463, 11922,\n",
       "         12365, 12688,  8645,  2998, 11790,   778, 12522, 12678,  9924,\n",
       "         12659,  9164,  3226, 11928, 12629, 11910,  9870,  9486, 12582,\n",
       "          9912]])>}"
      ]
     },
     "execution_count": 25,
     "metadata": {},
     "output_type": "execute_result"
    }
   ],
   "source": [
    "detections = detect_fn(input_tensor)\n",
    "detections"
   ]
  },
  {
   "cell_type": "code",
   "execution_count": 37,
   "metadata": {},
   "outputs": [
    {
     "data": {
      "text/plain": [
       "1"
      ]
     },
     "execution_count": 37,
     "metadata": {},
     "output_type": "execute_result"
    }
   ],
   "source": [
    "os.system(WORKSPACE_PATH+\"/audio/\"\"three.mp3\")"
   ]
  },
  {
   "cell_type": "code",
   "execution_count": null,
   "metadata": {},
   "outputs": [],
   "source": []
  },
  {
   "cell_type": "code",
   "execution_count": null,
   "metadata": {},
   "outputs": [],
   "source": []
  }
 ],
 "metadata": {
  "kernelspec": {
   "display_name": "Python 3",
   "language": "python",
   "name": "python3"
  },
  "language_info": {
   "codemirror_mode": {
    "name": "ipython",
    "version": 3
   },
   "file_extension": ".py",
   "mimetype": "text/x-python",
   "name": "python",
   "nbconvert_exporter": "python",
   "pygments_lexer": "ipython3",
   "version": "3.7.7"
  }
 },
 "nbformat": 4,
 "nbformat_minor": 2
}
