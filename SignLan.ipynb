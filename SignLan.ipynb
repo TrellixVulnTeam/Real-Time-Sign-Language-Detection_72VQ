{
 "cells": [
  {
   "cell_type": "code",
   "execution_count": 4,
   "metadata": {},
   "outputs": [],
   "source": [
    "WORKSPACE_PATH = 'Tensorflow/workspace'\n",
    "SCRIPTS_PATH = 'Tensorflow/scripts'\n",
    "APIMODEL_PATH = 'Tensorflow/models'\n",
    "ANNOTATION_PATH = WORKSPACE_PATH+'/annotations'\n",
    "IMAGE_PATH = WORKSPACE_PATH+'/images'\n",
    "MODEL_PATH = WORKSPACE_PATH+'/models'\n",
    "PRETRAINED_MODEL_PATH = WORKSPACE_PATH+'/pre-trained-models'\n",
    "CONFIG_PATH = MODEL_PATH+'/my_ssd_mobnet/pipeline.config'\n",
    "CHECKPOINT_PATH = MODEL_PATH+'/my_ssd_mobnet/'"
   ]
  },
  {
   "cell_type": "code",
   "execution_count": 2,
   "metadata": {},
   "outputs": [],
   "source": [
    "labels = [\n",
    "    {'name':'zero', 'id':1}, \n",
    "    {'name':'one', 'id':2},\n",
    "    {'name':'two', 'id':3}, \n",
    "    {'name':'three', 'id':4},\n",
    "    {'name':'four', 'id':5}, \n",
    "    {'name':'five', 'id':6},\n",
    "    {'name':'six', 'id':7}, \n",
    "    {'name':'seven', 'id':8},\n",
    "    {'name':'eight', 'id':9}, \n",
    "    {'name':'nine', 'id':10}\n",
    "         ]\n",
    "\n",
    "with open(ANNOTATION_PATH + '\\label_map.pbtxt', 'w') as f:\n",
    "    for label in labels:\n",
    "        f.write('item { \\n')\n",
    "        f.write('\\tname:\\'{}\\'\\n'.format(label['name']))\n",
    "        f.write('\\tid:{}\\n'.format(label['id']))\n",
    "        f.write('}\\n')"
   ]
  },
  {
   "cell_type": "code",
   "execution_count": 4,
   "metadata": {},
   "outputs": [
    {
     "name": "stdout",
     "output_type": "stream",
     "text": [
      "Successfully created the TFRecord file: Tensorflow/workspace/annotations/train.record\n",
      "Successfully created the TFRecord file: Tensorflow/workspace/annotations/test.record\n"
     ]
    }
   ],
   "source": [
    "!python {SCRIPTS_PATH + '/generate_tfrecord.py'} -x {IMAGE_PATH + '/train'} -l {ANNOTATION_PATH + '/label_map.pbtxt'} -o {ANNOTATION_PATH + '/train.record'}\n",
    "!python {SCRIPTS_PATH + '/generate_tfrecord.py'} -x{IMAGE_PATH + '/test'} -l {ANNOTATION_PATH + '/label_map.pbtxt'} -o {ANNOTATION_PATH + '/test.record'}"
   ]
  },
  {
   "cell_type": "code",
   "execution_count": 3,
   "metadata": {},
   "outputs": [
    {
     "name": "stderr",
     "output_type": "stream",
     "text": [
      "fatal: destination path 'models' already exists and is not an empty directory.\n"
     ]
    }
   ],
   "source": [
    "!cd Tensorflow && git clone https://github.com/tensorflow/models"
   ]
  },
  {
   "cell_type": "code",
   "execution_count": 6,
   "metadata": {},
   "outputs": [],
   "source": [
    "#wget.download('http://download.tensorflow.org/models/object_detection/tf2/20200711/ssd_mobilenet_v2_fpnlite_320x320_coco17_tpu-8.tar.gz')\n",
    "#!mv ssd_mobilenet_v2_fpnlite_320x320_coco17_tpu-8.tar.gz {PRETRAINED_MODEL_PATH}\n",
    "#!cd {PRETRAINED_MODEL_PATH} && tar -zxvf ssd_mobilenet_v2_fpnlite_320x320_coco17_tpu-8.tar.gz"
   ]
  },
  {
   "cell_type": "code",
   "execution_count": 5,
   "metadata": {},
   "outputs": [],
   "source": [
    "CUSTOM_MODEL_NAME = 'my_ssd_mobnet' "
   ]
  },
  {
   "cell_type": "code",
   "execution_count": 15,
   "metadata": {},
   "outputs": [
    {
     "name": "stdout",
     "output_type": "stream",
     "text": [
      "The syntax of the command is incorrect.\n"
     ]
    }
   ],
   "source": [
    "!mkdir {'Tensorflow\\workspace\\models\\\\'+CUSTOM_MODEL_NAME}\n",
    "!copy {PRETRAINED_MODEL_PATH+'/ssd_mobilenet_v2_fpnlite_320x320_coco17_tpu-8/pipeline.config'} {MODEL_PATH+'/'+CUSTOM_MODEL_NAME}"
   ]
  },
  {
   "cell_type": "code",
   "execution_count": 6,
   "metadata": {},
   "outputs": [],
   "source": [
    "import tensorflow as tf\n",
    "from object_detection.utils import config_util\n",
    "from object_detection.protos import pipeline_pb2\n",
    "from google.protobuf import text_format"
   ]
  },
  {
   "cell_type": "code",
   "execution_count": 7,
   "metadata": {},
   "outputs": [],
   "source": [
    "CONFIG_PATH = MODEL_PATH+'/'+CUSTOM_MODEL_NAME+'/pipeline.config'"
   ]
  },
  {
   "cell_type": "code",
   "execution_count": 8,
   "metadata": {},
   "outputs": [],
   "source": [
    "config = config_util.get_configs_from_pipeline_file(CONFIG_PATH)"
   ]
  },
  {
   "cell_type": "code",
   "execution_count": 6,
   "metadata": {},
   "outputs": [
    {
     "data": {
      "text/plain": [
       "{'model': ssd {\n",
       "   num_classes: 10\n",
       "   image_resizer {\n",
       "     fixed_shape_resizer {\n",
       "       height: 320\n",
       "       width: 320\n",
       "     }\n",
       "   }\n",
       "   feature_extractor {\n",
       "     type: \"ssd_mobilenet_v2_fpn_keras\"\n",
       "     depth_multiplier: 1.0\n",
       "     min_depth: 16\n",
       "     conv_hyperparams {\n",
       "       regularizer {\n",
       "         l2_regularizer {\n",
       "           weight: 3.9999998989515007e-05\n",
       "         }\n",
       "       }\n",
       "       initializer {\n",
       "         random_normal_initializer {\n",
       "           mean: 0.0\n",
       "           stddev: 0.009999999776482582\n",
       "         }\n",
       "       }\n",
       "       activation: RELU_6\n",
       "       batch_norm {\n",
       "         decay: 0.996999979019165\n",
       "         scale: true\n",
       "         epsilon: 0.0010000000474974513\n",
       "       }\n",
       "     }\n",
       "     use_depthwise: true\n",
       "     override_base_feature_extractor_hyperparams: true\n",
       "     fpn {\n",
       "       min_level: 3\n",
       "       max_level: 7\n",
       "       additional_layer_depth: 128\n",
       "     }\n",
       "   }\n",
       "   box_coder {\n",
       "     faster_rcnn_box_coder {\n",
       "       y_scale: 10.0\n",
       "       x_scale: 10.0\n",
       "       height_scale: 5.0\n",
       "       width_scale: 5.0\n",
       "     }\n",
       "   }\n",
       "   matcher {\n",
       "     argmax_matcher {\n",
       "       matched_threshold: 0.5\n",
       "       unmatched_threshold: 0.5\n",
       "       ignore_thresholds: false\n",
       "       negatives_lower_than_unmatched: true\n",
       "       force_match_for_each_row: true\n",
       "       use_matmul_gather: true\n",
       "     }\n",
       "   }\n",
       "   similarity_calculator {\n",
       "     iou_similarity {\n",
       "     }\n",
       "   }\n",
       "   box_predictor {\n",
       "     weight_shared_convolutional_box_predictor {\n",
       "       conv_hyperparams {\n",
       "         regularizer {\n",
       "           l2_regularizer {\n",
       "             weight: 3.9999998989515007e-05\n",
       "           }\n",
       "         }\n",
       "         initializer {\n",
       "           random_normal_initializer {\n",
       "             mean: 0.0\n",
       "             stddev: 0.009999999776482582\n",
       "           }\n",
       "         }\n",
       "         activation: RELU_6\n",
       "         batch_norm {\n",
       "           decay: 0.996999979019165\n",
       "           scale: true\n",
       "           epsilon: 0.0010000000474974513\n",
       "         }\n",
       "       }\n",
       "       depth: 128\n",
       "       num_layers_before_predictor: 4\n",
       "       kernel_size: 3\n",
       "       class_prediction_bias_init: -4.599999904632568\n",
       "       share_prediction_tower: true\n",
       "       use_depthwise: true\n",
       "     }\n",
       "   }\n",
       "   anchor_generator {\n",
       "     multiscale_anchor_generator {\n",
       "       min_level: 3\n",
       "       max_level: 7\n",
       "       anchor_scale: 4.0\n",
       "       aspect_ratios: 1.0\n",
       "       aspect_ratios: 2.0\n",
       "       aspect_ratios: 0.5\n",
       "       scales_per_octave: 2\n",
       "     }\n",
       "   }\n",
       "   post_processing {\n",
       "     batch_non_max_suppression {\n",
       "       score_threshold: 9.99999993922529e-09\n",
       "       iou_threshold: 0.6000000238418579\n",
       "       max_detections_per_class: 100\n",
       "       max_total_detections: 100\n",
       "       use_static_shapes: false\n",
       "     }\n",
       "     score_converter: SIGMOID\n",
       "   }\n",
       "   normalize_loss_by_num_matches: true\n",
       "   loss {\n",
       "     localization_loss {\n",
       "       weighted_smooth_l1 {\n",
       "       }\n",
       "     }\n",
       "     classification_loss {\n",
       "       weighted_sigmoid_focal {\n",
       "         gamma: 2.0\n",
       "         alpha: 0.25\n",
       "       }\n",
       "     }\n",
       "     classification_weight: 1.0\n",
       "     localization_weight: 1.0\n",
       "   }\n",
       "   encode_background_as_zeros: true\n",
       "   normalize_loc_loss_by_codesize: true\n",
       "   inplace_batchnorm_update: true\n",
       "   freeze_batchnorm: false\n",
       " },\n",
       " 'train_config': batch_size: 4\n",
       " data_augmentation_options {\n",
       "   random_horizontal_flip {\n",
       "   }\n",
       " }\n",
       " data_augmentation_options {\n",
       "   random_crop_image {\n",
       "     min_object_covered: 0.0\n",
       "     min_aspect_ratio: 0.75\n",
       "     max_aspect_ratio: 3.0\n",
       "     min_area: 0.75\n",
       "     max_area: 1.0\n",
       "     overlap_thresh: 0.0\n",
       "   }\n",
       " }\n",
       " sync_replicas: true\n",
       " optimizer {\n",
       "   momentum_optimizer {\n",
       "     learning_rate {\n",
       "       cosine_decay_learning_rate {\n",
       "         learning_rate_base: 0.07999999821186066\n",
       "         total_steps: 50000\n",
       "         warmup_learning_rate: 0.026666000485420227\n",
       "         warmup_steps: 1000\n",
       "       }\n",
       "     }\n",
       "     momentum_optimizer_value: 0.8999999761581421\n",
       "   }\n",
       "   use_moving_average: false\n",
       " }\n",
       " fine_tune_checkpoint: \"Tensorflow/workspace/pre-trained-models/ssd_mobilenet_v2_fpnlite_320x320_coco17_tpu-8/checkpoint/ckpt-0\"\n",
       " num_steps: 50000\n",
       " startup_delay_steps: 0.0\n",
       " replicas_to_aggregate: 8\n",
       " max_number_of_boxes: 100\n",
       " unpad_groundtruth_tensors: false\n",
       " fine_tune_checkpoint_type: \"detection\"\n",
       " fine_tune_checkpoint_version: V2,\n",
       " 'train_input_config': label_map_path: \"Tensorflow/workspace/annotations/label_map.pbtxt\"\n",
       " tf_record_input_reader {\n",
       "   input_path: \"Tensorflow/workspace/annotations/train.record\"\n",
       " },\n",
       " 'eval_config': metrics_set: \"coco_detection_metrics\"\n",
       " use_moving_averages: false,\n",
       " 'eval_input_configs': [label_map_path: \"Tensorflow/workspace/annotations/label_map.pbtxt\"\n",
       " shuffle: false\n",
       " num_epochs: 1\n",
       " tf_record_input_reader {\n",
       "   input_path: \"Tensorflow/workspace/annotations/test.record\"\n",
       " }\n",
       " ],\n",
       " 'eval_input_config': label_map_path: \"Tensorflow/workspace/annotations/label_map.pbtxt\"\n",
       " shuffle: false\n",
       " num_epochs: 1\n",
       " tf_record_input_reader {\n",
       "   input_path: \"Tensorflow/workspace/annotations/test.record\"\n",
       " }}"
      ]
     },
     "execution_count": 6,
     "metadata": {},
     "output_type": "execute_result"
    }
   ],
   "source": [
    "config"
   ]
  },
  {
   "cell_type": "code",
   "execution_count": 9,
   "metadata": {},
   "outputs": [],
   "source": [
    "pipeline_config = pipeline_pb2.TrainEvalPipelineConfig()\n",
    "with tf.io.gfile.GFile(CONFIG_PATH, \"r\") as f:                                                                                                                                                                                                                     \n",
    "    proto_str = f.read()                                                                                                                                                                                                                                          \n",
    "    text_format.Merge(proto_str, pipeline_config)  "
   ]
  },
  {
   "cell_type": "code",
   "execution_count": 9,
   "metadata": {},
   "outputs": [],
   "source": [
    "pipeline_config.model.ssd.num_classes = 10\n",
    "pipeline_config.train_config.batch_size = 4\n",
    "pipeline_config.train_config.fine_tune_checkpoint = PRETRAINED_MODEL_PATH+'/ssd_mobilenet_v2_fpnlite_320x320_coco17_tpu-8/checkpoint/ckpt-0'\n",
    "pipeline_config.train_config.fine_tune_checkpoint_type = \"detection\"\n",
    "pipeline_config.train_input_reader.label_map_path= ANNOTATION_PATH + '/label_map.pbtxt'\n",
    "pipeline_config.train_input_reader.tf_record_input_reader.input_path[:] = [ANNOTATION_PATH + '/train.record']\n",
    "pipeline_config.eval_input_reader[0].label_map_path = ANNOTATION_PATH + '/label_map.pbtxt'\n",
    "pipeline_config.eval_input_reader[0].tf_record_input_reader.input_path[:] = [ANNOTATION_PATH + '/test.record']"
   ]
  },
  {
   "cell_type": "code",
   "execution_count": 10,
   "metadata": {},
   "outputs": [],
   "source": [
    "config_text = text_format.MessageToString(pipeline_config)                                                                                                                                                                                                        \n",
    "with tf.io.gfile.GFile(CONFIG_PATH, \"wb\") as f:                                                                                                                                                                                                                     \n",
    "    f.write(config_text)   "
   ]
  },
  {
   "cell_type": "markdown",
   "metadata": {},
   "source": [
    "# Train the model"
   ]
  },
  {
   "cell_type": "code",
   "execution_count": 23,
   "metadata": {},
   "outputs": [
    {
     "name": "stdout",
     "output_type": "stream",
     "text": [
      "python Tensorflow/models/research/object_detection/model_main_tf2.py --model_dir=Tensorflow/workspace/models/my_ssd_mobnet --pipeline_config_path=Tensorflow/workspace/models/my_ssd_mobnet/pipeline.config --num_train_steps=5000\n"
     ]
    }
   ],
   "source": [
    "print(\"\"\"python {}/research/object_detection/model_main_tf2.py --model_dir={}/{} --pipeline_config_path={}/{}/pipeline.config --num_train_steps=5000\"\"\".format(APIMODEL_PATH, MODEL_PATH,CUSTOM_MODEL_NAME,MODEL_PATH,CUSTOM_MODEL_NAME))"
   ]
  },
  {
   "cell_type": "markdown",
   "metadata": {},
   "source": [
    "#  Load Train Model From Checkpoint"
   ]
  },
  {
   "cell_type": "code",
   "execution_count": 11,
   "metadata": {},
   "outputs": [],
   "source": [
    "import os\n",
    "from object_detection.utils import label_map_util\n",
    "from object_detection.utils import visualization_utils as viz_utils\n",
    "from object_detection.builders import model_builder\n",
    "from gtts import gTTS"
   ]
  },
  {
   "cell_type": "code",
   "execution_count": 12,
   "metadata": {},
   "outputs": [],
   "source": [
    "# Load pipeline config and build a detection model\n",
    "configs = config_util.get_configs_from_pipeline_file(CONFIG_PATH)\n",
    "detection_model = model_builder.build(model_config=configs['model'], is_training=False)\n",
    "\n",
    "# Restore checkpoint\n",
    "ckpt = tf.compat.v2.train.Checkpoint(model=detection_model)\n",
    "ckpt.restore(os.path.join(CHECKPOINT_PATH, 'ckpt-6')).expect_partial()\n",
    "\n",
    "@tf.function\n",
    "def detect_fn(image):\n",
    "    image, shapes = detection_model.preprocess(image)\n",
    "    prediction_dict = detection_model.predict(image, shapes)\n",
    "    detections = detection_model.postprocess(prediction_dict, shapes)\n",
    "    return detections"
   ]
  },
  {
   "cell_type": "markdown",
   "metadata": {},
   "source": [
    "# Detect in Real-Time"
   ]
  },
  {
   "cell_type": "code",
   "execution_count": 17,
   "metadata": {},
   "outputs": [],
   "source": [
    "import cv2 \n",
    "import numpy as np\n",
    "from IPython.display import Audio\n",
    "from playsound import playsound\n"
   ]
  },
  {
   "cell_type": "code",
   "execution_count": 14,
   "metadata": {},
   "outputs": [],
   "source": [
    "category_index = label_map_util.create_category_index_from_labelmap(ANNOTATION_PATH+'/label_map.pbtxt')"
   ]
  },
  {
   "cell_type": "code",
   "execution_count": 18,
   "metadata": {},
   "outputs": [],
   "source": [
    "# Setup capture\n",
    "cap = cv2.VideoCapture(0)\n",
    "width = int(cap.get(cv2.CAP_PROP_FRAME_WIDTH))\n",
    "height = int(cap.get(cv2.CAP_PROP_FRAME_HEIGHT))"
   ]
  },
  {
   "cell_type": "code",
   "execution_count": 19,
   "metadata": {},
   "outputs": [
    {
     "name": "stdout",
     "output_type": "stream",
     "text": [
      "One\n",
      "Two\n",
      "Seven\n",
      "Seven\n",
      "Nine\n",
      "Eight\n",
      "Zero\n",
      "Zero\n"
     ]
    }
   ],
   "source": [
    "l=['Zero','One','Two','Three','Four','Five','Six','Seven','Eight','Nine']\n",
    "language = 'en'\n",
    "while True: \n",
    "    ret, frame = cap.read()\n",
    "    image_np = np.array(frame)\n",
    "    \n",
    "    input_tensor = tf.convert_to_tensor(np.expand_dims(image_np, 0), dtype=tf.float32)\n",
    "    detections = detect_fn(input_tensor)\n",
    "    \n",
    "    num_detections = int(detections.pop('num_detections'))\n",
    "    \n",
    "    detections = {key: value[0, :num_detections].numpy()\n",
    "                  for key, value in detections.items()}\n",
    "    detections['num_detections'] = num_detections\n",
    "    \n",
    "#     print(category_index)\n",
    "    # detection_classes should be ints.\n",
    "    detections['detection_classes'] = detections['detection_classes'].astype(np.int64)\n",
    "#     print(detections['detection_classes'][0],detections['detection_scores'][0]*100)\n",
    "    \n",
    "    label_id_offset = 1\n",
    "    image_np_with_detections = image_np.copy()\n",
    "\n",
    "    viz_utils.visualize_boxes_and_labels_on_image_array(\n",
    "                image_np_with_detections,\n",
    "                detections['detection_boxes'],\n",
    "                detections['detection_classes']+label_id_offset,\n",
    "                detections['detection_scores'],\n",
    "                category_index,\n",
    "                use_normalized_coordinates=True,\n",
    "                max_boxes_to_draw=5,\n",
    "                min_score_thresh=.5,\n",
    "                agnostic_mode=False)\n",
    "\n",
    "    cv2.imshow('object detection',  cv2.resize(image_np_with_detections, (800, 600)))\n",
    "\n",
    "    key = cv2.waitKey(1000)\n",
    "    if key == 32:\n",
    "        cap.release()\n",
    "        cv2.destroyAllWindows()\n",
    "        break\n",
    "    if detections['detection_scores'][0]*100 >65:\n",
    "        print(l[detections['detection_classes'][0]])\n",
    "        s='you are pointing '+ l[detections['detection_classes'][0]]\n",
    "        sign = gTTS(text=s, lang=language, slow=False)\n",
    "        try:\n",
    "            sign.save(WORKSPACE_PATH+\"/audio/\"+l[detections['detection_classes'][0]]+\".mp3\")\n",
    "            audio = Audio(filename=WORKSPACE_PATH+\"/audio/\"+l[detections['detection_classes'][0]]+\".mp3\")\n",
    "            playsound(WORKSPACE_PATH+\"/audio/\"+l[detections['detection_classes'][0]]+\".mp3\")\n",
    "            \n",
    "            # display(audio)\n",
    "        except :\n",
    "            pass\n",
    "            # try:\n",
    "                \n",
    "            # # audio = Audio(filename=WORKSPACE_PATH+\"/audio/\"+l[detections['detection_classes'][0]]+\".mp3\")\n",
    "            # # display(audio)\n",
    "            # except:\n",
    "            #     pass\n",
    "            \n",
    "    \n",
    "    "
   ]
  },
  {
   "cell_type": "code",
   "execution_count": 25,
   "metadata": {
    "collapsed": true
   },
   "outputs": [
    {
     "data": {
      "text/plain": [
       "{'detection_boxes': <tf.Tensor: shape=(1, 100, 4), dtype=float32, numpy=\n",
       " array([[[3.75721931e-01, 5.78870893e-01, 1.00000000e+00, 1.00000000e+00],\n",
       "         [8.44301581e-02, 6.55111730e-01, 9.81123269e-01, 1.00000000e+00],\n",
       "         [0.00000000e+00, 7.59854674e-01, 6.01536453e-01, 1.00000000e+00],\n",
       "         [6.64170086e-01, 6.15211606e-01, 8.74278367e-01, 7.12628365e-01],\n",
       "         [0.00000000e+00, 8.70398819e-01, 2.04871297e-01, 1.00000000e+00],\n",
       "         [4.48536932e-01, 6.00987434e-01, 9.74544823e-01, 9.94317412e-01],\n",
       "         [5.33840001e-01, 6.07960880e-01, 9.96722281e-01, 9.66649711e-01],\n",
       "         [0.00000000e+00, 6.95667624e-01, 6.31218255e-01, 1.00000000e+00],\n",
       "         [0.00000000e+00, 6.08224630e-01, 6.54811621e-01, 1.00000000e+00],\n",
       "         [6.07760787e-01, 6.78766251e-01, 8.18607569e-01, 7.85723567e-01],\n",
       "         [6.17171228e-01, 6.53947890e-01, 8.32866967e-01, 7.65177906e-01],\n",
       "         [2.34446168e-01, 5.86844027e-01, 1.00000000e+00, 1.00000000e+00],\n",
       "         [0.00000000e+00, 6.68013215e-01, 6.87601447e-01, 1.00000000e+00],\n",
       "         [0.00000000e+00, 4.90878314e-01, 1.00000000e+00, 1.00000000e+00],\n",
       "         [3.75721931e-01, 5.78870893e-01, 1.00000000e+00, 1.00000000e+00],\n",
       "         [0.00000000e+00, 0.00000000e+00, 3.03760231e-01, 1.26983523e-01],\n",
       "         [4.75603700e-01, 0.00000000e+00, 9.74846244e-01, 1.15577102e-01],\n",
       "         [6.37921453e-01, 6.32984996e-01, 8.63086104e-01, 7.34136224e-01],\n",
       "         [0.00000000e+00, 6.13360822e-01, 2.97135651e-01, 7.64426291e-01],\n",
       "         [0.00000000e+00, 7.08855331e-01, 6.07662499e-01, 1.00000000e+00],\n",
       "         [0.00000000e+00, 0.00000000e+00, 4.38083857e-01, 1.11924320e-01],\n",
       "         [1.08401030e-02, 6.68212175e-01, 2.40973040e-01, 7.54692435e-01],\n",
       "         [0.00000000e+00, 5.65816283e-01, 2.62156308e-01, 7.08693743e-01],\n",
       "         [4.04133320e-01, 6.61023378e-01, 7.25811005e-01, 8.06819558e-01],\n",
       "         [4.78270710e-01, 6.24982119e-01, 9.80246365e-01, 8.58663797e-01],\n",
       "         [3.69675457e-04, 5.15050769e-01, 2.40507394e-01, 6.52763724e-01],\n",
       "         [7.53538460e-02, 6.55186176e-01, 4.21840310e-01, 1.00000000e+00],\n",
       "         [8.44301581e-02, 6.55111730e-01, 9.81123269e-01, 1.00000000e+00],\n",
       "         [8.41887772e-01, 2.38067538e-01, 1.00000000e+00, 4.05211240e-01],\n",
       "         [9.05232877e-03, 6.46212041e-01, 2.41741776e-01, 7.33153164e-01],\n",
       "         [8.33824277e-03, 4.12219048e-01, 2.31495798e-01, 5.49788892e-01],\n",
       "         [5.10393828e-03, 4.63135004e-01, 2.32160002e-01, 6.00353718e-01],\n",
       "         [0.00000000e+00, 7.17816114e-01, 6.10856295e-01, 1.00000000e+00],\n",
       "         [9.76455957e-03, 3.65811348e-01, 2.33154356e-01, 5.02086997e-01],\n",
       "         [8.44301581e-02, 6.55111730e-01, 9.81123269e-01, 1.00000000e+00],\n",
       "         [0.00000000e+00, 8.91417623e-01, 1.97110474e-01, 1.00000000e+00],\n",
       "         [4.26616967e-02, 0.00000000e+00, 2.48949736e-01, 6.14183322e-02],\n",
       "         [0.00000000e+00, 0.00000000e+00, 4.38083857e-01, 1.11924320e-01],\n",
       "         [0.00000000e+00, 0.00000000e+00, 1.56082079e-01, 6.89158142e-02],\n",
       "         [0.00000000e+00, 4.90878314e-01, 1.00000000e+00, 1.00000000e+00],\n",
       "         [7.53538460e-02, 6.55186176e-01, 4.21840310e-01, 1.00000000e+00],\n",
       "         [0.00000000e+00, 5.12574911e-01, 1.00000000e+00, 1.00000000e+00],\n",
       "         [6.41713619e-01, 5.73184788e-01, 9.93232489e-01, 1.00000000e+00],\n",
       "         [0.00000000e+00, 4.41406220e-01, 1.00000000e+00, 1.00000000e+00],\n",
       "         [2.46187374e-02, 2.32129723e-01, 1.86429441e-01, 2.93417066e-01],\n",
       "         [1.21030435e-02, 6.93073630e-01, 2.42845923e-01, 7.80373454e-01],\n",
       "         [8.36390555e-01, 2.84687132e-01, 1.00000000e+00, 4.56316143e-01],\n",
       "         [0.00000000e+00, 8.70398819e-01, 2.04871297e-01, 1.00000000e+00],\n",
       "         [7.66896456e-03, 3.19712132e-01, 2.36417085e-01, 4.52253729e-01],\n",
       "         [2.51793489e-02, 9.01903629e-01, 2.67701119e-01, 1.00000000e+00],\n",
       "         [3.57449949e-02, 0.00000000e+00, 2.05708832e-01, 1.58206969e-01],\n",
       "         [7.53538460e-02, 6.55186176e-01, 4.21840310e-01, 1.00000000e+00],\n",
       "         [0.00000000e+00, 0.00000000e+00, 2.22706527e-01, 1.12103224e-01],\n",
       "         [5.85556388e-01, 5.56805432e-01, 9.25964475e-01, 1.00000000e+00],\n",
       "         [8.41514826e-01, 1.92136616e-01, 1.00000000e+00, 3.53497893e-01],\n",
       "         [3.93433303e-01, 7.37346113e-01, 6.90075517e-01, 8.36971343e-01],\n",
       "         [9.25817370e-01, 2.51528263e-01, 9.93070245e-01, 3.76893103e-01],\n",
       "         [9.24289703e-01, 1.79449692e-01, 9.91968632e-01, 2.94418573e-01],\n",
       "         [1.03978962e-02, 8.10107827e-01, 2.90450752e-01, 9.21793699e-01],\n",
       "         [1.31627545e-02, 8.70157182e-01, 1.46482080e-01, 1.00000000e+00],\n",
       "         [0.00000000e+00, 8.53585362e-01, 2.50767052e-01, 9.80693936e-01],\n",
       "         [3.40072095e-01, 7.38951504e-01, 6.11283839e-01, 8.31530750e-01],\n",
       "         [2.32330710e-03, 2.65672892e-01, 2.44865209e-01, 3.92756194e-01],\n",
       "         [6.57926500e-02, 4.12875682e-01, 9.78399277e-01, 1.00000000e+00],\n",
       "         [0.00000000e+00, 4.90878314e-01, 1.00000000e+00, 1.00000000e+00],\n",
       "         [9.41787541e-01, 4.68514919e-01, 1.00000000e+00, 5.49783468e-01],\n",
       "         [0.00000000e+00, 4.80752617e-01, 1.00000000e+00, 1.00000000e+00],\n",
       "         [6.09009266e-02, 0.00000000e+00, 5.84826052e-01, 1.06826760e-01],\n",
       "         [7.66896456e-03, 3.19712132e-01, 2.36417085e-01, 4.52253729e-01],\n",
       "         [1.51183009e-01, 2.52580553e-01, 7.94004023e-01, 1.00000000e+00],\n",
       "         [0.00000000e+00, 1.54757500e-03, 1.00000000e+00, 1.00000000e+00],\n",
       "         [9.17249262e-01, 4.31012005e-01, 1.00000000e+00, 5.81250310e-01],\n",
       "         [0.00000000e+00, 0.00000000e+00, 1.60484314e-01, 1.52345389e-01],\n",
       "         [8.73058200e-01, 1.92376882e-01, 1.00000000e+00, 3.50881010e-01],\n",
       "         [7.10859895e-03, 6.23709798e-01, 2.39342794e-01, 7.10319638e-01],\n",
       "         [8.74127388e-01, 2.40095377e-01, 1.00000000e+00, 4.00836051e-01],\n",
       "         [8.74127388e-01, 2.40095377e-01, 1.00000000e+00, 4.00836051e-01],\n",
       "         [2.52154976e-01, 4.33328301e-01, 4.23370391e-01, 4.94826108e-01],\n",
       "         [0.00000000e+00, 6.13360822e-01, 2.97135651e-01, 7.64426291e-01],\n",
       "         [3.75721931e-01, 5.78870893e-01, 1.00000000e+00, 1.00000000e+00],\n",
       "         [8.73182952e-01, 2.88493335e-01, 1.00000000e+00, 4.51423168e-01],\n",
       "         [1.93170071e-01, 0.00000000e+00, 1.00000000e+00, 1.82534441e-01],\n",
       "         [0.00000000e+00, 5.59342265e-01, 1.00000000e+00, 1.00000000e+00],\n",
       "         [8.12291086e-01, 0.00000000e+00, 1.00000000e+00, 6.06257878e-02],\n",
       "         [2.25821525e-01, 4.58789349e-01, 3.97766501e-01, 5.19616902e-01],\n",
       "         [8.41514826e-01, 1.92136616e-01, 1.00000000e+00, 3.53497893e-01],\n",
       "         [5.10953367e-03, 2.09055245e-01, 1.64331302e-01, 2.71556824e-01],\n",
       "         [5.33840001e-01, 6.07960880e-01, 9.96722281e-01, 9.66649711e-01],\n",
       "         [6.57926500e-02, 4.12875682e-01, 9.78399277e-01, 1.00000000e+00],\n",
       "         [0.00000000e+00, 6.51875973e-01, 3.31408590e-01, 8.17527771e-01],\n",
       "         [0.00000000e+00, 4.80752617e-01, 1.00000000e+00, 1.00000000e+00],\n",
       "         [9.22474623e-01, 1.29644811e-01, 9.92518663e-01, 2.43026942e-01],\n",
       "         [2.52947539e-01, 4.08271730e-01, 4.24091548e-01, 4.70770717e-01],\n",
       "         [8.71786952e-01, 3.39482486e-01, 1.00000000e+00, 5.00475764e-01],\n",
       "         [0.00000000e+00, 4.90878314e-01, 1.00000000e+00, 1.00000000e+00],\n",
       "         [8.73058200e-01, 1.92376882e-01, 1.00000000e+00, 3.50881010e-01],\n",
       "         [0.00000000e+00, 2.14390814e-01, 2.61600077e-01, 3.38371158e-01],\n",
       "         [9.41692472e-01, 4.93354291e-01, 1.00000000e+00, 5.75051188e-01],\n",
       "         [6.54387116e-01, 5.99381447e-01, 1.00000000e+00, 9.34351921e-01],\n",
       "         [0.00000000e+00, 5.65816283e-01, 2.62156308e-01, 7.08693743e-01]]],\n",
       "       dtype=float32)>,\n",
       " 'detection_scores': <tf.Tensor: shape=(1, 100), dtype=float32, numpy=\n",
       " array([[0.06951609, 0.04369774, 0.04018769, 0.03708103, 0.03670004,\n",
       "         0.03187737, 0.03081852, 0.02805558, 0.02758318, 0.02691668,\n",
       "         0.02585503, 0.02561358, 0.02552837, 0.02508202, 0.02472594,\n",
       "         0.02471668, 0.02427876, 0.02389094, 0.02373454, 0.0233188 ,\n",
       "         0.0231438 , 0.0222646 , 0.0221844 , 0.02168497, 0.02099293,\n",
       "         0.02082145, 0.02040824, 0.02035689, 0.02027601, 0.02021936,\n",
       "         0.01997995, 0.01997802, 0.01927304, 0.01911792, 0.01909617,\n",
       "         0.01903519, 0.01873517, 0.01869282, 0.01863739, 0.0184539 ,\n",
       "         0.01833147, 0.01822573, 0.01816669, 0.01779309, 0.01777354,\n",
       "         0.01776499, 0.01771781, 0.01760063, 0.01755908, 0.01752931,\n",
       "         0.0174906 , 0.01745895, 0.01722702, 0.0170179 , 0.01698643,\n",
       "         0.01677582, 0.01631153, 0.01615503, 0.01602137, 0.01586118,\n",
       "         0.01570532, 0.01549524, 0.0152972 , 0.01520565, 0.01506722,\n",
       "         0.01474017, 0.01472306, 0.01471609, 0.01468027, 0.01465765,\n",
       "         0.0144926 , 0.01447055, 0.0144434 , 0.01441655, 0.01425159,\n",
       "         0.01424864, 0.01424697, 0.01416028, 0.01408517, 0.01405168,\n",
       "         0.01399606, 0.01397091, 0.01391482, 0.01387578, 0.01381758,\n",
       "         0.01370656, 0.01369289, 0.01369017, 0.01369002, 0.01349849,\n",
       "         0.01342165, 0.01341987, 0.01340154, 0.01334044, 0.01327866,\n",
       "         0.0132598 , 0.01322377, 0.01314956, 0.01309645, 0.01305464]],\n",
       "       dtype=float32)>,\n",
       " 'detection_classes': <tf.Tensor: shape=(1, 100), dtype=float32, numpy=\n",
       " array([[6., 6., 3., 6., 3., 1., 0., 1., 3., 6., 6., 1., 0., 0., 0., 3.,\n",
       "         6., 6., 5., 6., 3., 3., 5., 1., 7., 5., 3., 3., 9., 3., 5., 5.,\n",
       "         7., 5., 7., 6., 6., 2., 6., 3., 8., 1., 9., 6., 3., 3., 9., 8.,\n",
       "         5., 3., 8., 7., 1., 3., 9., 1., 7., 7., 3., 3., 3., 1., 4., 1.,\n",
       "         2., 0., 6., 6., 4., 8., 1., 5., 8., 8., 3., 8., 9., 3., 4., 7.,\n",
       "         0., 6., 7., 6., 3., 8., 3., 6., 7., 5., 7., 7., 3., 0., 1., 9.,\n",
       "         4., 0., 0., 4.]], dtype=float32)>,\n",
       " 'num_detections': <tf.Tensor: shape=(1,), dtype=float32, numpy=array([100.], dtype=float32)>,\n",
       " 'raw_detection_boxes': <tf.Tensor: shape=(1, 12804, 4), dtype=float32, numpy=\n",
       " array([[[-3.59594338e-02, -2.72248108e-02,  8.80099535e-02,\n",
       "           5.95361814e-02],\n",
       "         [-5.17100915e-02, -3.98273319e-02,  1.05705895e-01,\n",
       "           7.16789290e-02],\n",
       "         [-2.04123352e-02, -4.98481356e-02,  5.60135990e-02,\n",
       "           8.01020414e-02],\n",
       "         ...,\n",
       "         [-3.30677509e-01, -6.56379580e-01,  1.52441287e+00,\n",
       "           2.15153360e+00],\n",
       "         [-5.09390831e-01,  1.98250234e-01,  1.69374323e+00,\n",
       "           1.46487522e+00],\n",
       "         [-8.41442049e-01,  3.95536423e-04,  2.15377331e+00,\n",
       "           1.67503619e+00]]], dtype=float32)>,\n",
       " 'raw_detection_scores': <tf.Tensor: shape=(1, 12804, 11), dtype=float32, numpy=\n",
       " array([[[0.0047707 , 0.00202683, 0.00627625, ..., 0.00216112,\n",
       "          0.00173643, 0.00258821],\n",
       "         [0.00457415, 0.00385407, 0.00547171, ..., 0.00394773,\n",
       "          0.0014089 , 0.0019094 ],\n",
       "         [0.00282273, 0.00304148, 0.0025177 , ..., 0.00423151,\n",
       "          0.00432473, 0.0032742 ],\n",
       "         ...,\n",
       "         [0.00678584, 0.00468239, 0.00331476, ..., 0.00371549,\n",
       "          0.00313672, 0.00648206],\n",
       "         [0.00527138, 0.01212773, 0.00424516, ..., 0.00243217,\n",
       "          0.00567272, 0.00745526],\n",
       "         [0.00480744, 0.0033842 , 0.00394642, ..., 0.00108403,\n",
       "          0.00273716, 0.00691047]]], dtype=float32)>,\n",
       " 'detection_multiclass_scores': <tf.Tensor: shape=(1, 100, 11), dtype=float32, numpy=\n",
       " array([[[0.00248659, 0.02472594, 0.03166497, ..., 0.01405168,\n",
       "          0.00307238, 0.00417694],\n",
       "         [0.00253329, 0.00760305, 0.02446744, ..., 0.01909617,\n",
       "          0.0030238 , 0.00117248],\n",
       "         [0.00240597, 0.00180197, 0.00304458, ..., 0.00514486,\n",
       "          0.00283384, 0.00178304],\n",
       "         ...,\n",
       "         [0.00148523, 0.01314956, 0.00656816, ..., 0.00266117,\n",
       "          0.00529093, 0.00776723],\n",
       "         [0.0015671 , 0.01309645, 0.00683919, ..., 0.00063956,\n",
       "          0.0033347 , 0.00399527],\n",
       "         [0.00239661, 0.00519186, 0.00185168, ..., 0.00114226,\n",
       "          0.00365913, 0.00416544]]], dtype=float32)>,\n",
       " 'detection_anchor_indices': <tf.Tensor: shape=(1, 100), dtype=int32, numpy=\n",
       " array([[12463, 12353, 10187,  7601,   703, 12462, 12522, 12169, 12163,\n",
       "          7139,  7133, 12407, 12053, 12629, 12463,  9850, 11405,  7367,\n",
       "          9918, 12175, 10085,  1133,  9912, 10888, 11369,  9906, 12170,\n",
       "         12353, 11796,  1127,  9894,  9900, 12172,  9888, 12353,   709,\n",
       "          1445, 10085,   485, 12629, 12170, 12719, 12524, 12682,  1024,\n",
       "          1139, 11802,   703,  9882,  1673,  9842, 12170,  9720, 12464,\n",
       "         11790,  5231,  9194,  9176,  1169,   711,   941,  4511,  9876,\n",
       "         12678, 12629,  9480, 12659, 10445,  9882, 12680, 12703,  9243,\n",
       "          9722, 11910,  1121, 11916, 11916,  3232,  9918, 12463, 11922,\n",
       "         12365, 12688,  8645,  2998, 11790,   778, 12522, 12678,  9924,\n",
       "         12659,  9164,  3226, 11928, 12629, 11910,  9870,  9486, 12582,\n",
       "          9912]])>}"
      ]
     },
     "execution_count": 25,
     "metadata": {},
     "output_type": "execute_result"
    }
   ],
   "source": [
    "# detections = detect_fn(input_tensor)\n",
    "# detections"
   ]
  },
  {
   "cell_type": "code",
   "execution_count": 37,
   "metadata": {},
   "outputs": [
    {
     "data": {
      "text/plain": [
       "1"
      ]
     },
     "execution_count": 37,
     "metadata": {},
     "output_type": "execute_result"
    }
   ],
   "source": []
  },
  {
   "cell_type": "code",
   "execution_count": null,
   "metadata": {},
   "outputs": [],
   "source": []
  },
  {
   "cell_type": "code",
   "execution_count": null,
   "metadata": {},
   "outputs": [],
   "source": []
  },
  {
   "cell_type": "code",
   "execution_count": null,
   "metadata": {},
   "outputs": [],
   "source": []
  }
 ],
 "metadata": {
  "kernelspec": {
   "display_name": "Python 3.9.7 64-bit",
   "language": "python",
   "name": "python3"
  },
  "language_info": {
   "codemirror_mode": {
    "name": "ipython",
    "version": 3
   },
   "file_extension": ".py",
   "mimetype": "text/x-python",
   "name": "python",
   "nbconvert_exporter": "python",
   "pygments_lexer": "ipython3",
   "version": "3.9.7"
  },
  "vscode": {
   "interpreter": {
    "hash": "f2761118097a37887adcebad003dc74427ebb4626b2a209d2235d09cf5924db1"
   }
  }
 },
 "nbformat": 4,
 "nbformat_minor": 2
}
